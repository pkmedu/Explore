


Step-by-Step Deployment
1. Create a New Repository

Go to github.com and sign in
Click the "+" button (top right) → "New repository"
Repository name: bootstrap-practice (or any name you prefer)
Make it Public (required for free GitHub Pages)
Check "Add a README file"
Click "Create repository"

2. Upload Your HTML File

In your new repository, click "Add file" → "Upload files"
Rename your HTML file to index.html (important!)
Drag and drop or select the index.html file
Scroll down and click "Commit changes"

3. Enable GitHub Pages

In your repository, click "Settings" tab
Scroll down to "Pages" in the left sidebar
Under "Source", select "Deploy from a branch"
Choose "main" branch and "/ (root)" folder
Click "Save"

4. Access Your Website

GitHub will show you the URL: https://yourusername.github.io/bootstrap-practice
It may take 5-10 minutes to go live initially
After that, changes update within minutes

Quick Alternative: Using GitHub's Web Interface
If you want to create the file directly on GitHub:

In your repository, click "Add file" → "Create new file"
Name it index.html
Copy and paste your HTML code
Click "Commit changes"

Pro Tips

Always name your main file index.html - GitHub Pages automatically serves this as the homepage
Any updates you make to index.html will automatically deploy
Custom domain: You can later add your own domain in Pages settings
Multiple projects: Create separate repositories for different practice projects

Once deployed, you can share the link with others or use it in your portfolio. The site will be live at https://yourusername.github.io/bootstrap-practice!
Let me know if you need help with any of these steps!RetryPMJupyter Lab pwdEditTo find your current working directory in JupyterLab, you have several options:
Method 1: Using Terminal in JupyterLab

Open a terminal in JupyterLab:

Click the "+" button to open the launcher
Click "Terminal"


Run the pwd command:
bashpwd


Method 2: Using Python in a Notebook

Create a new notebook or open an existing one
Run this Python code in a cell:
pythonimport os
print(os.getcwd())


Method 3: Using Magic Command in Notebook
In a Jupyter notebook cell, run:
python%pwd
Method 4: Check the File Browser

Look at the left panel (file browser) in JupyterLab
The breadcrumb path at the top shows your current directory
You can also see the full path in the address bar

Method 5: Using Shell Command in Notebook
In a notebook cell:
python!pwd
The most common and straightforward way is using the terminal method. This will show you the full path to your current working directory, which is useful for understanding where your files (like bootstrap_explanation.ipynb) are located.
Which method would you like to use?RetryPMHow to write pwd in Jupyter call?EditTo write pwd in a Jupyter cell, you have several options:
Method 1: Magic Command (Recommended)
python%pwd
Method 2: Shell Command with !
python!pwd
Method 3: Python os module
pythonimport os
os.getcwd()
Method 4: Python pathlib (Modern approach)
pythonfrom pathlib import Path
Path.cwd()
Examples and Output
Using %pwd:
python%pwd
Output: /home/username/jupyter-notebooks
Using !pwd:
python!pwd
Output: /home/username/jupyter-notebooks
Using os.getcwd():
pythonimport os
print(os.getcwd())
Output: /home/username/jupyter-notebooks
Quick Tips

%pwd is a Jupyter magic command (fastest)
!pwd runs the shell command directly
os.getcwd() is pure Python (works everywhere)
Path.cwd() is the modern Python way

Just type any of these in a Jupyter cell and press Shift+Enter to run it!RetryClaude can make mistakes. Please double-check responses.Research Sonnet 4
