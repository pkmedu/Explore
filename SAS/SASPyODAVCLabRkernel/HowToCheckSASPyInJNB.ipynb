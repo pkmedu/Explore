{
 "cells": [
  {
   "cell_type": "code",
   "execution_count": 1,
   "id": "1dbd1a9d-079c-4f03-9c8f-ea941cdade32",
   "metadata": {
    "tags": []
   },
   "outputs": [
    {
     "data": {
      "text/plain": [
       "'C:\\\\Users\\\\pmuhuri\\\\SASCourse\\\\SASPy_kernel_sascfg'"
      ]
     },
     "execution_count": 1,
     "metadata": {},
     "output_type": "execute_result"
    }
   ],
   "source": [
    "%pwd"
   ]
  },
  {
   "cell_type": "markdown",
   "id": "1c550add-0008-48f6-be4b-2501b39b556f",
   "metadata": {},
   "source": [
    "### Check Anaconda/Python, Jupyter Lab, Java, SASPy and SAS kernel installation. "
   ]
  },
  {
   "cell_type": "markdown",
   "id": "4c204a5c-d572-4739-b405-92ffa7bcf71d",
   "metadata": {},
   "source": [
    "#### Find out which version of Anaconda you are using¶"
   ]
  },
  {
   "cell_type": "code",
   "execution_count": 22,
   "id": "3da971d8-10f7-4a60-a869-979f3c2a5eaf",
   "metadata": {
    "tags": []
   },
   "outputs": [
    {
     "name": "stdout",
     "output_type": "stream",
     "text": [
      "conda 23.7.4\n"
     ]
    }
   ],
   "source": [
    "!conda --version"
   ]
  },
  {
   "cell_type": "markdown",
   "id": "a44f8e87-8723-47d8-b859-2d6b3eb856b9",
   "metadata": {},
   "source": [
    "#### Find out which version of Python you are using"
   ]
  },
  {
   "cell_type": "code",
   "execution_count": 10,
   "id": "0774c006-884f-4836-b75f-f1cae9548dd5",
   "metadata": {
    "tags": []
   },
   "outputs": [
    {
     "name": "stdout",
     "output_type": "stream",
     "text": [
      "3.11.5\n"
     ]
    }
   ],
   "source": [
    "from platform import python_version\n",
    "print(python_version())"
   ]
  },
  {
   "cell_type": "code",
   "execution_count": 2,
   "id": "630734d8-a556-412f-8f8d-2f94df3186bf",
   "metadata": {
    "tags": []
   },
   "outputs": [
    {
     "name": "stdout",
     "output_type": "stream",
     "text": [
      "Python 3.11.5\n"
     ]
    }
   ],
   "source": [
    "!python --version"
   ]
  },
  {
   "cell_type": "markdown",
   "id": "1027a687-303a-41c0-9b42-edaa9487015b",
   "metadata": {},
   "source": [
    "#### Find out which version of Jupyter Lab you are using"
   ]
  },
  {
   "cell_type": "code",
   "execution_count": 2,
   "id": "a9a4f7d7-106d-49c0-bd85-b8bdff63b84f",
   "metadata": {
    "tags": []
   },
   "outputs": [
    {
     "name": "stdout",
     "output_type": "stream",
     "text": [
      "Selected Jupyter core packages...\n",
      "IPython          : 8.15.0\n",
      "ipykernel        : 6.25.0\n",
      "ipywidgets       : 8.0.4\n",
      "jupyter_client   : 7.4.9\n",
      "jupyter_core     : 5.3.0\n",
      "jupyter_server   : 1.23.4\n",
      "jupyterlab       : 3.6.3\n",
      "nbclient         : 0.5.13\n",
      "nbconvert        : 6.5.4\n",
      "nbformat         : 5.9.2\n",
      "notebook         : 6.5.4\n",
      "qtconsole        : 5.4.2\n",
      "traitlets        : 5.7.1\n"
     ]
    }
   ],
   "source": [
    "!jupyter --version"
   ]
  },
  {
   "cell_type": "markdown",
   "id": "0fff1e16-e039-428e-bcb6-11ddec60c117",
   "metadata": {},
   "source": [
    "#### Find out whether Java is installed (Critical)"
   ]
  },
  {
   "cell_type": "code",
   "execution_count": 3,
   "id": "d3cb20b8-d182-4c35-946f-d17632902e05",
   "metadata": {
    "tags": []
   },
   "outputs": [
    {
     "name": "stdout",
     "output_type": "stream",
     "text": [
      "C:\\Program Files\\SASHome\\SASDeploymentManager\\9.4\\products\\privatejre__99573__wx6__xx__sp0__1\\bin\\java.exe\n",
      "C:\\Program Files\\SASHome\\SASPrivateJavaRuntimeEnvironment\\9.4\\jre\\bin\\java.exe\n"
     ]
    }
   ],
   "source": [
    "import glob\n",
    "path = 'C:\\\\Program Files\\\\SASHome\\\\'\n",
    "files = (f for f in glob.glob(path + '**/java.exe', recursive=True))\n",
    "for f in files:\n",
    "    print(f)"
   ]
  },
  {
   "cell_type": "markdown",
   "id": "143ee527-85f4-4cc2-9570-853ae3b852c5",
   "metadata": {},
   "source": [
    "#### If you want to upgrade the sas_kernel, use the command below or skip it"
   ]
  },
  {
   "cell_type": "code",
   "execution_count": null,
   "id": "ab64a4c4-0cfb-42e9-bb0e-3e287f3925b2",
   "metadata": {
    "tags": []
   },
   "outputs": [],
   "source": [
    "!pip install --upgrade sas_kernel saspy"
   ]
  },
  {
   "cell_type": "markdown",
   "id": "3c437cb2-5f02-48b4-9662-fbdf5c2c2443",
   "metadata": {},
   "source": [
    "### Verify the instllation of saspy"
   ]
  },
  {
   "cell_type": "code",
   "execution_count": 5,
   "id": "e50da2f9-f0d5-47cf-b9e9-1b614ae61e7d",
   "metadata": {
    "tags": []
   },
   "outputs": [
    {
     "name": "stdout",
     "output_type": "stream",
     "text": [
      "Name: saspy\n",
      "Version: 5.5.0\n",
      "Summary: A Python interface to SAS\n",
      "Home-page: https://github.com/sassoftware/saspy\n",
      "Author: Tom Weber\n",
      "Author-email: Tom.Weber@sas.com\n",
      "License: \n",
      "Location: C:\\Users\\pmuhuri\\AppData\\Local\\anaconda3\\Lib\\site-packages\n",
      "Requires: \n",
      "Required-by: SAS-kernel\n"
     ]
    }
   ],
   "source": [
    "!pip show saspy"
   ]
  },
  {
   "cell_type": "markdown",
   "id": "42b00d0e-16eb-4ea3-a7dd-e3b6cc2030f4",
   "metadata": {},
   "source": [
    "### Verify the installation of sas-kernel"
   ]
  },
  {
   "cell_type": "code",
   "execution_count": 6,
   "id": "8e24ce34-f21d-4427-8eef-6cc203de0837",
   "metadata": {
    "tags": []
   },
   "outputs": [
    {
     "name": "stdout",
     "output_type": "stream",
     "text": [
      "Name: SAS-kernel\n",
      "Version: 2.4.13\n",
      "Summary: A SAS kernel for Jupyter\n",
      "Home-page: https://github.com/sassoftware/sas_kernel\n",
      "Author: Jared Dean\n",
      "Author-email: jared.dean@sas.com\n",
      "License: Apache Software License\n",
      "Location: C:\\Users\\pmuhuri\\AppData\\Local\\anaconda3\\Lib\\site-packages\n",
      "Requires: ipython, jupyter-client, metakernel, saspy\n",
      "Required-by: \n"
     ]
    }
   ],
   "source": [
    "!pip show sas-kernel"
   ]
  },
  {
   "cell_type": "markdown",
   "id": "c1e108c8-ca8a-4273-9fae-3a52f82c83a9",
   "metadata": {},
   "source": [
    "#### List out the kernels and associated folders"
   ]
  },
  {
   "cell_type": "code",
   "execution_count": 19,
   "id": "8edecfa0-d3dc-4f8d-952d-5d0d37e9c4bd",
   "metadata": {
    "tags": []
   },
   "outputs": [],
   "source": [
    "!set PYDEVD_DISABLE_FILE_VALIDATION=1 "
   ]
  },
  {
   "cell_type": "code",
   "execution_count": 20,
   "id": "8b3a0fcd-383d-48cb-8c30-9e091e7a1f28",
   "metadata": {
    "tags": []
   },
   "outputs": [],
   "source": [
    "!set PYDEVD_DISABLE_FILE_VALIDATION=1 ipython kernel install --user --name=testi2"
   ]
  },
  {
   "cell_type": "code",
   "execution_count": 1,
   "id": "80a35ff0-2039-4fbd-aae2-4fabfc9a90dd",
   "metadata": {
    "tags": []
   },
   "outputs": [
    {
     "name": "stdout",
     "output_type": "stream",
     "text": [
      "Available kernels:\n",
      "  ir         C:\\Users\\pmuhuri\\AppData\\Roaming\\jupyter\\kernels\\ir\n",
      "  sas        C:\\Users\\pmuhuri\\AppData\\Roaming\\jupyter\\kernels\\sas\n",
      "  python3    C:\\Users\\pmuhuri\\AppData\\Local\\anaconda3\\share\\jupyter\\kernels\\python3\n"
     ]
    },
    {
     "name": "stderr",
     "output_type": "stream",
     "text": [
      "0.00s - Debugger warning: It seems that frozen modules are being used, which may\n",
      "0.00s - make the debugger miss breakpoints. Please pass -Xfrozen_modules=off\n",
      "0.00s - to python to disable frozen modules.\n",
      "0.00s - Note: Debugging will proceed. Set PYDEVD_DISABLE_FILE_VALIDATION=1 to disable this validation.\n"
     ]
    }
   ],
   "source": [
    "!jupyter kernelspec list"
   ]
  },
  {
   "cell_type": "markdown",
   "id": "9eb90e87-6c43-4135-bb4b-fc10c06f8c5c",
   "metadata": {},
   "source": [
    "#### List out selected .jar files from the relvant folder."
   ]
  },
  {
   "cell_type": "code",
   "execution_count": 2,
   "id": "a841db69-03df-4e5d-89be-a8c5011d2863",
   "metadata": {
    "tags": []
   },
   "outputs": [
    {
     "name": "stdout",
     "output_type": "stream",
     "text": [
      "C:\\Program Files\\SASHome\\SASDeploymentManager\\9.4\\products\\deploywiz__94518__prt__xx__sp0__1\\deploywiz\\sas.svc.connection.jar\n",
      "C:\\Program Files\\SASHome\\SASDeploymentManager\\9.4\\products\\deploywiz__94518__prt__xx__sp0__1\\deploywiz\\log4j.jar\n",
      "C:\\Program Files\\SASHome\\SASDeploymentManager\\9.4\\products\\deploywiz__94518__prt__xx__sp0__1\\deploywiz\\sas.security.sspi.jar\n",
      "C:\\Program Files\\SASHome\\SASDeploymentManager\\9.4\\products\\deploywiz__94518__prt__xx__sp0__1\\deploywiz\\sas.core.jar\n"
     ]
    }
   ],
   "source": [
    "import os\n",
    "myfiles = ['sas.svc.connection.jar', 'log4j.jar', 'sas.security.sspi.jar', 'sas.core.jar']\n",
    "for filename in myfiles:\n",
    "    print(os.path.join('C:\\\\Program Files\\\\SASHome\\\\SASDeploymentManager\\\\9.4\\\\products\\\\deploywiz__94518__prt__xx__sp0__1\\\\deploywiz', \n",
    "    filename))"
   ]
  },
  {
   "cell_type": "code",
   "execution_count": 1,
   "id": "d8bc5eb7-8508-4c03-afcc-116f551b1b02",
   "metadata": {
    "tags": []
   },
   "outputs": [
    {
     "name": "stdout",
     "output_type": "stream",
     "text": [
      "CFGFILE ALREADY EXISTS: C:\\Users\\pmuhuri\\AppData\\Local\\anaconda3\\Lib\\site-packages\\saspy\\sascfg_personal.py\n"
     ]
    }
   ],
   "source": [
    "from saspy import autocfg\n",
    "autocfg.main()"
   ]
  },
  {
   "cell_type": "markdown",
   "id": "0c9c2f8e-2c2e-4ed8-bb5f-1e9e668f9c8c",
   "metadata": {},
   "source": [
    "#### Retrieve the content of the sascfg_personal.py (SAS configuration file for SASPy)"
   ]
  },
  {
   "cell_type": "code",
   "execution_count": 3,
   "id": "815cb219-b4df-4f83-b093-14fbf3bb7d1d",
   "metadata": {
    "tags": []
   },
   "outputs": [
    {
     "name": "stdout",
     "output_type": "stream",
     "text": [
      "\"\"\"\n",
      "# The code snippets (SAS configuration file for SASPy) below are for SAS ODA and have been commented out because I am using SAS 9.4 (licensed software) for now.\n",
      "SAS_config_names=['oda']\n",
      "oda = {'java' : 'C:\\Program Files (x86)\\Common Files\\Oracle\\Java\\javapath\\java.exe',\n",
      "US Home Region 2\n",
      "'iomhost' : ['odaws01-usw2.oda.sas.com','odaws02-usw2.oda.sas.com','odaws03-usw2.oda.sas.com','odaws04-usw2.oda.sas.com'], \n",
      "'iomport' : 8591,\n",
      "'authkey' : 'oda',\n",
      "'encoding' : 'utf-8'\n",
      "}\n",
      "\"\"\"\n",
      "\n",
      "# The code snippets (SAS configuration file for SASPy) below are for SAS 9.4 (licensed software)\n",
      "\n",
      "import os\n",
      "os.environ[\"PATH\"] += \";C:\\\\Program Files\\\\SASHome\\\\SASFoundation\\\\9.4\\\\core\\\\sasext\"\n",
      "SAS_config_names=['winlocal']\n",
      "default  = {'saspath'  : '/opt/sasinside/SASHome/SASFoundation/9.4/bin/sas_u8' }\n",
      "winlocal = {'java'      : 'C:\\Program Files (x86)\\Common Files\\Oracle\\Java\\javapath\\java.exe',  'encoding'  : 'windows-1252'}\n",
      "\n"
     ]
    }
   ],
   "source": [
    "fd = open(r'C:\\Users\\pmuhuri\\AppData\\Local\\anaconda3\\Lib\\site-packages\\saspy\\sascfg_personal.py')\n",
    "print(fd.read())\n",
    "fd.close()"
   ]
  },
  {
   "cell_type": "code",
   "execution_count": null,
   "id": "afb9da80-9b9f-4477-8f3c-ed956720d9b9",
   "metadata": {},
   "outputs": [],
   "source": [
    "import glob\n",
    "path = 'C:\\\\'\n",
    "files = (f for f in glob.glob(path + '**/sas*.rutil*.jar', recursive=True))\n",
    "for f in files:\n",
    "    print(f)"
   ]
  },
  {
   "cell_type": "code",
   "execution_count": 4,
   "id": "6d2c173c-dbb4-497a-8913-ee8c778254f7",
   "metadata": {
    "tags": []
   },
   "outputs": [
    {
     "name": "stdout",
     "output_type": "stream",
     "text": [
      "C:\\Data\\_authinfo\n",
      "C:\\Users\\pmuhuri\\_authinfo\n",
      "C:\\Users\\pmuhuri\\Downloads\\_authinfo\n",
      "C:\\Users\\pmuhuri\\SASCourse\\SAS_ODA\\_authinfo\n"
     ]
    }
   ],
   "source": [
    "import glob\n",
    "path = 'C:\\\\'\n",
    "files = (f for f in glob.glob(path + '**/_authinfo', recursive=True))\n",
    "for f in files:\n",
    "    print(f)"
   ]
  },
  {
   "cell_type": "code",
   "execution_count": 1,
   "id": "bdae686a-a507-44ac-aea9-ce014a0151c5",
   "metadata": {
    "tags": []
   },
   "outputs": [
    {
     "name": "stdout",
     "output_type": "stream",
     "text": [
      "C:\\$Recycle.Bin\\S-1-5-21-2551908886-1609939859-1204051493-282584\\$RCV2IXL\\Library\\include\\qt\\Qt3DRender\\5.9.7\\Qt3DRender\\private\\bufferutils_p.h\n",
      "C:\\$Recycle.Bin\\S-1-5-21-2551908886-1609939859-1204051493-282584\\$RCV2IXL\\Library\\include\\qt\\QtPositioning\\5.9.7\\QtPositioning\\private\\qclipperutils_p.h\n",
      "C:\\$Recycle.Bin\\S-1-5-21-2551908886-1609939859-1204051493-282584\\$RCV2IXL\\Library\\qml\\QtQuick\\Controls\\Private\\CalendarUtils.js\n",
      "C:\\$Recycle.Bin\\S-1-5-21-2551908886-1609939859-1204051493-282584\\$RCV2IXL\\pkgs\\fonttools-4.25.0-pyhd3eb1b0_0\\site-packages\\fontTools\\ttLib\\tables\\grUtils.py\n",
      "C:\\$Recycle.Bin\\S-1-5-21-2551908886-1609939859-1204051493-282584\\$RCV2IXL\\pkgs\\qt-5.9.7-vc14h73c81de_0\\Library\\include\\qt\\Qt3DRender\\5.9.7\\Qt3DRender\\private\\bufferutils_p.h\n",
      "C:\\$Recycle.Bin\\S-1-5-21-2551908886-1609939859-1204051493-282584\\$RCV2IXL\\pkgs\\qt-5.9.7-vc14h73c81de_0\\Library\\include\\qt\\QtPositioning\\5.9.7\\QtPositioning\\private\\qclipperutils_p.h\n",
      "C:\\$Recycle.Bin\\S-1-5-21-2551908886-1609939859-1204051493-282584\\$RCV2IXL\\pkgs\\qt-5.9.7-vc14h73c81de_0\\Library\\qml\\QtQuick\\Controls\\Private\\CalendarUtils.js\n",
      "C:\\Data\\sas.rutil.jar\n",
      "C:\\Data\\sas.rutil.nls.jar\n",
      "C:\\Data\\sastpj.rutil.jar\n",
      "C:\\Program Files\\Adobe\\Adobe Creative Cloud\\Components\\OneUp\\resources\\bundle\\cjs\\schema\\AnnotationValidatorUtil.js\n",
      "C:\\Program Files\\Adobe\\Adobe Creative Cloud\\Components\\OneUp\\resources\\bundle\\cjs\\util\\ErrorUtils.js\n",
      "C:\\Program Files\\Common Files\\Adobe\\Creative Cloud Libraries\\js\\node_modules\\bufferutil\n",
      "C:\\Program Files\\Common Files\\Intel Corporation\\IAStorUtil\n",
      "C:\\Program Files\\Intel\\Intel(R) Rapid Storage Technology\\IAStorUtil.dll\n",
      "C:\\Program Files\\Intel\\Intel(R) Rapid Storage Technology\\ar\\IAStorUtil.resources.dll\n",
      "C:\\Program Files\\Intel\\Intel(R) Rapid Storage Technology\\cs\\IAStorUtil.resources.dll\n",
      "C:\\Program Files\\Intel\\Intel(R) Rapid Storage Technology\\da\\IAStorUtil.resources.dll\n",
      "C:\\Program Files\\Intel\\Intel(R) Rapid Storage Technology\\de\\IAStorUtil.resources.dll\n",
      "C:\\Program Files\\Intel\\Intel(R) Rapid Storage Technology\\el\\IAStorUtil.resources.dll\n",
      "C:\\Program Files\\Intel\\Intel(R) Rapid Storage Technology\\es\\IAStorUtil.resources.dll\n",
      "C:\\Program Files\\Intel\\Intel(R) Rapid Storage Technology\\fi\\IAStorUtil.resources.dll\n",
      "C:\\Program Files\\Intel\\Intel(R) Rapid Storage Technology\\fr\\IAStorUtil.resources.dll\n",
      "C:\\Program Files\\Intel\\Intel(R) Rapid Storage Technology\\he\\IAStorUtil.resources.dll\n",
      "C:\\Program Files\\Intel\\Intel(R) Rapid Storage Technology\\hu\\IAStorUtil.resources.dll\n",
      "C:\\Program Files\\Intel\\Intel(R) Rapid Storage Technology\\it\\IAStorUtil.resources.dll\n",
      "C:\\Program Files\\Intel\\Intel(R) Rapid Storage Technology\\ja\\IAStorUtil.resources.dll\n",
      "C:\\Program Files\\Intel\\Intel(R) Rapid Storage Technology\\ko\\IAStorUtil.resources.dll\n",
      "C:\\Program Files\\Intel\\Intel(R) Rapid Storage Technology\\nl\\IAStorUtil.resources.dll\n",
      "C:\\Program Files\\Intel\\Intel(R) Rapid Storage Technology\\no\\IAStorUtil.resources.dll\n",
      "C:\\Program Files\\Intel\\Intel(R) Rapid Storage Technology\\pl\\IAStorUtil.resources.dll\n",
      "C:\\Program Files\\Intel\\Intel(R) Rapid Storage Technology\\pt\\IAStorUtil.resources.dll\n",
      "C:\\Program Files\\Intel\\Intel(R) Rapid Storage Technology\\pt-PT\\IAStorUtil.resources.dll\n",
      "C:\\Program Files\\Intel\\Intel(R) Rapid Storage Technology\\ru\\IAStorUtil.resources.dll\n",
      "C:\\Program Files\\Intel\\Intel(R) Rapid Storage Technology\\sv\\IAStorUtil.resources.dll\n",
      "C:\\Program Files\\Intel\\Intel(R) Rapid Storage Technology\\th\\IAStorUtil.resources.dll\n",
      "C:\\Program Files\\Intel\\Intel(R) Rapid Storage Technology\\tr\\IAStorUtil.resources.dll\n",
      "C:\\Program Files\\Intel\\Intel(R) Rapid Storage Technology\\zh-Hans\\IAStorUtil.resources.dll\n",
      "C:\\Program Files\\Intel\\Intel(R) Rapid Storage Technology\\zh-Hant\\IAStorUtil.resources.dll\n",
      "C:\\Program Files\\RStudio\\R\\modules\\SessionRUtil.R\n",
      "C:\\Program Files\\SASHome\\SASDeploymentManager\\9.4\\products\\securejava__94120_cd533__prt__xx__sp0__1\\sas.rutil.jar\n",
      "C:\\Program Files\\SASHome\\SASDeploymentManager\\9.4\\products\\securejava__94120_cd533__prt__xx__sp0__1\\sas.rutil.nls.jar\n",
      "C:\\Program Files\\SASHome\\SASDeploymentManager\\9.4\\products\\securejava__94120_cd533__prt__xx__sp0__1\\sastpj.rutil.jar\n",
      "C:\\Program Files\\SASHome\\SASDeploymentManager\\9.4\\products\\securejava__94120__prt__xx__sp0__1\\sas.rutil.jar\n",
      "C:\\Program Files\\SASHome\\SASDeploymentManager\\9.4\\products\\securejava__94120__prt__xx__sp0__1\\sas.rutil.nls.jar\n",
      "C:\\Program Files\\SASHome\\SASDeploymentManager\\9.4\\products\\securejava__94120__prt__xx__sp0__1\\sastpj.rutil.jar\n",
      "C:\\Program Files\\SASHome\\SASGraphJavaApplets\\9.4\\MIRUtil.jar\n",
      "C:\\Program Files\\SASHome\\SASSecureJavaM3\\9.4\\sas.rutil.jar\n",
      "C:\\Program Files\\SASHome\\SASSecureJavaM3\\9.4\\sas.rutil.nls.jar\n",
      "C:\\Program Files\\SASHome\\SASSecureJavaM3\\9.4\\sastpj.rutil.jar\n",
      "C:\\Program Files\\SASHome\\SASSecureJavaM4\\9.4\\sas.rutil.jar\n",
      "C:\\Program Files\\SASHome\\SASSecureJavaM4\\9.4\\sas.rutil.nls.jar\n",
      "C:\\Program Files\\SASHome\\SASSecureJavaM4\\9.4\\sastpj.rutil.jar\n",
      "C:\\Program Files\\SASHome\\SASSecureJavaM5\\9.4\\sas.rutil.jar\n",
      "C:\\Program Files\\SASHome\\SASSecureJavaM5\\9.4\\sas.rutil.nls.jar\n",
      "C:\\Program Files\\SASHome\\SASSecureJavaM5\\9.4\\sastpj.rutil.jar\n",
      "C:\\Program Files\\SASHome\\SASSecureJavaM6\\9.4\\sas.rutil.jar\n",
      "C:\\Program Files\\SASHome\\SASSecureJavaM6\\9.4\\sas.rutil.nls.jar\n",
      "C:\\Program Files\\SASHome\\SASSecureJavaM6\\9.4\\sastpj.rutil.jar\n",
      "C:\\Program Files\\SASHome\\SASStudioSingleUser\\3.81\\war\\resources\\js\\dojo\\dojox\\dgauges\\_circularUtils.js\n",
      "C:\\Program Files\\SASHome\\SASStudioSingleUser\\3.81\\war\\resources\\js\\dojo\\dojox\\gfx\\bezierutils.js\n",
      "C:\\Program Files\\SASHome\\SASStudioSingleUser\\3.81\\war\\WEB-INF\\lib\\MIRUtil.jar\n",
      "C:\\Program Files\\SASHome\\SASVersionedJarRepository\\eclipse\\plugins\\sas.rutil.nls_904000.0.0.20130522190000_v940\n",
      "C:\\Program Files\\SASHome\\SASVersionedJarRepository\\eclipse\\plugins\\sas.rutil.nls_904300.0.0.20150204190000_v940m3\n",
      "C:\\Program Files\\SASHome\\SASVersionedJarRepository\\eclipse\\plugins\\sas.rutil.nls_904400.0.0.20160427190000_v940m4\n",
      "C:\\Program Files\\SASHome\\SASVersionedJarRepository\\eclipse\\plugins\\sas.rutil.nls_904500.0.0.20170816190000_v940m5\n",
      "C:\\Program Files\\SASHome\\SASVersionedJarRepository\\eclipse\\plugins\\sas.rutil.nls_904600.0.0.20181017190000_v940m6\n",
      "C:\\Program Files\\SASHome\\SASVersionedJarRepository\\eclipse\\plugins\\sas.rutil.nls_904700.0.0.20200715190000_v940m7\n",
      "C:\\Program Files\\SASHome\\SASVersionedJarRepository\\eclipse\\plugins\\sas.rutil_904000.0.0.20130522190000_v940\n",
      "C:\\Program Files\\SASHome\\SASVersionedJarRepository\\eclipse\\plugins\\sas.rutil_904300.0.0.20150204190000_v940m3\n",
      "C:\\Program Files\\SASHome\\SASVersionedJarRepository\\eclipse\\plugins\\sas.rutil_904400.1.0.20160824190000_v940m4\n",
      "C:\\Program Files\\SASHome\\SASVersionedJarRepository\\eclipse\\plugins\\sas.rutil_904500.0.0.20170816190000_v940m5\n",
      "C:\\Program Files\\SASHome\\SASVersionedJarRepository\\eclipse\\plugins\\sas.rutil_904600.0.0.20181017190000_v940m6\n",
      "C:\\Program Files\\SASHome\\SASVersionedJarRepository\\eclipse\\plugins\\sas.rutil_904700.0.0.20200715190000_v940m7\n",
      "C:\\Program Files\\SASHome\\SASVersionedJarRepository\\eclipse\\plugins\\sastpj.rutil_6.1.0.0_SAS_20121211183517\n",
      "C:\\Program Files\\SASHome\\SASVersionedJarRepository\\eclipse\\plugins\\sastpj.rutil_6.1.2.0_SAS_20180917093823\n",
      "C:\\Program Files\\SASHome\\SASVersionedJarRepository\\eclipse\\plugins\\MetaInt_10.1.0.0_SAS_20200707115502\\MIRUtil.jar\n",
      "C:\\Program Files\\SASHome\\SASVersionedJarRepository\\eclipse\\plugins\\sas.rutil.nls_904000.0.0.20130522190000_v940\\sas.rutil.nls.jar\n",
      "C:\\Program Files\\SASHome\\SASVersionedJarRepository\\eclipse\\plugins\\sas.rutil.nls_904300.0.0.20150204190000_v940m3\\sas.rutil.nls.jar\n",
      "C:\\Program Files\\SASHome\\SASVersionedJarRepository\\eclipse\\plugins\\sas.rutil.nls_904400.0.0.20160427190000_v940m4\\sas.rutil.nls.jar\n",
      "C:\\Program Files\\SASHome\\SASVersionedJarRepository\\eclipse\\plugins\\sas.rutil.nls_904500.0.0.20170816190000_v940m5\\sas.rutil.nls.jar\n",
      "C:\\Program Files\\SASHome\\SASVersionedJarRepository\\eclipse\\plugins\\sas.rutil.nls_904600.0.0.20181017190000_v940m6\\sas.rutil.nls.jar\n",
      "C:\\Program Files\\SASHome\\SASVersionedJarRepository\\eclipse\\plugins\\sas.rutil.nls_904700.0.0.20200715190000_v940m7\\sas.rutil.nls.jar\n",
      "C:\\Program Files\\SASHome\\SASVersionedJarRepository\\eclipse\\plugins\\sas.rutil_904000.0.0.20130522190000_v940\\sas.rutil.jar\n",
      "C:\\Program Files\\SASHome\\SASVersionedJarRepository\\eclipse\\plugins\\sas.rutil_904300.0.0.20150204190000_v940m3\\sas.rutil.jar\n",
      "C:\\Program Files\\SASHome\\SASVersionedJarRepository\\eclipse\\plugins\\sas.rutil_904400.1.0.20160824190000_v940m4\\sas.rutil.jar\n",
      "C:\\Program Files\\SASHome\\SASVersionedJarRepository\\eclipse\\plugins\\sas.rutil_904500.0.0.20170816190000_v940m5\\sas.rutil.jar\n",
      "C:\\Program Files\\SASHome\\SASVersionedJarRepository\\eclipse\\plugins\\sas.rutil_904600.0.0.20181017190000_v940m6\\sas.rutil.jar\n",
      "C:\\Program Files\\SASHome\\SASVersionedJarRepository\\eclipse\\plugins\\sas.rutil_904700.0.0.20200715190000_v940m7\\sas.rutil.jar\n",
      "C:\\Program Files\\SASHome\\SASVersionedJarRepository\\eclipse\\plugins\\sastpj.rutil_6.1.0.0_SAS_20121211183517\\sastpj.rutil.jar\n",
      "C:\\Program Files\\SASHome\\SASVersionedJarRepository\\eclipse\\plugins\\sastpj.rutil_6.1.2.0_SAS_20180917093823\\sastpj.rutil.jar\n",
      "C:\\Program Files (x86)\\Citrix\\ICA Client\\Receiver\\Citrix.DeliveryServices.Clients.AuthManagerUtils.dll\n",
      "C:\\Program Files (x86)\\Citrix\\ICA Client\\SelfServicePlugin\\Citrix.DeliveryServices.Clients.AuthManagerUtils.dll\n",
      "C:\\Program Files (x86)\\Common Files\\Adobe\\AdobeGCClient\\AGCInvokerUtility.exe\n",
      "C:\\Program Files (x86)\\Common Files\\Adobe\\OOBE\\PDApp\\core\\AAMLauncherUtil.exe\n",
      "C:\\rtools42\\usr\\lib\\mxe\\usr\\x86_64-w64-mingw32.static.posix\\include\\propvarutil.h\n",
      "C:\\rtools42\\usr\\lib\\mxe\\usr\\x86_64-w64-mingw32.static.posix\\include\\google\\protobuf\\stubs\\strutil.h\n",
      "C:\\rtools42\\usr\\lib\\mxe\\usr\\x86_64-w64-mingw32.static.posix\\include\\llvm\\Analysis\\VectorUtils.h\n",
      "C:\\rtools42\\usr\\lib\\mxe\\usr\\x86_64-w64-mingw32.static.posix\\include\\llvm\\MC\\MCParser\\MCAsmParserUtils.h\n",
      "C:\\rtools42\\usr\\lib\\mxe\\usr\\x86_64-w64-mingw32.static.posix\\include\\llvm\\Transforms\\Utils\\CodeMoverUtils.h\n",
      "C:\\rtools42\\usr\\lib\\mxe\\usr\\x86_64-w64-mingw32.static.posix\\include\\llvm\\Transforms\\Utils\\CtorUtils.h\n",
      "C:\\rtools42\\x86_64-w64-mingw32.static.posix\\include\\propvarutil.h\n",
      "C:\\rtools42\\x86_64-w64-mingw32.static.posix\\include\\google\\protobuf\\stubs\\strutil.h\n",
      "C:\\rtools42\\x86_64-w64-mingw32.static.posix\\include\\llvm\\Analysis\\VectorUtils.h\n",
      "C:\\rtools42\\x86_64-w64-mingw32.static.posix\\include\\llvm\\MC\\MCParser\\MCAsmParserUtils.h\n",
      "C:\\rtools42\\x86_64-w64-mingw32.static.posix\\include\\llvm\\Transforms\\Utils\\CodeMoverUtils.h\n",
      "C:\\rtools42\\x86_64-w64-mingw32.static.posix\\include\\llvm\\Transforms\\Utils\\CtorUtils.h\n",
      "C:\\Users\\Default\\AppData\\Roaming\\Intel Corporation\\IAStorUtil\n",
      "C:\\Users\\pmuhuri\\AppData\\Local\\anaconda3\\Lib\\site-packages\\boltons\\deprutils.py\n",
      "C:\\Users\\pmuhuri\\AppData\\Local\\anaconda3\\Lib\\site-packages\\boltons\\easterutils.py\n",
      "C:\\Users\\pmuhuri\\AppData\\Local\\anaconda3\\Lib\\site-packages\\boltons\\iterutils.py\n",
      "C:\\Users\\pmuhuri\\AppData\\Local\\anaconda3\\Lib\\site-packages\\boltons\\strutils.py\n",
      "C:\\Users\\pmuhuri\\AppData\\Local\\anaconda3\\Lib\\site-packages\\boltons\\__pycache__\\deprutils.cpython-311.pyc\n",
      "C:\\Users\\pmuhuri\\AppData\\Local\\anaconda3\\Lib\\site-packages\\boltons\\__pycache__\\easterutils.cpython-311.pyc\n",
      "C:\\Users\\pmuhuri\\AppData\\Local\\anaconda3\\Lib\\site-packages\\boltons\\__pycache__\\iterutils.cpython-311.pyc\n",
      "C:\\Users\\pmuhuri\\AppData\\Local\\anaconda3\\Lib\\site-packages\\boltons\\__pycache__\\strutils.cpython-311.pyc\n",
      "C:\\Users\\pmuhuri\\AppData\\Local\\anaconda3\\Lib\\site-packages\\fontTools\\ttLib\\tables\\grUtils.py\n",
      "C:\\Users\\pmuhuri\\AppData\\Local\\anaconda3\\Lib\\site-packages\\fontTools\\ttLib\\tables\\__pycache__\\grUtils.cpython-311.pyc\n",
      "C:\\Users\\pmuhuri\\AppData\\Local\\anaconda3\\Library\\include\\google\\protobuf\\stubs\\strutil.h\n",
      "C:\\Users\\pmuhuri\\AppData\\Local\\anaconda3\\Library\\include\\qt\\Qt3DRender\\5.15.2\\Qt3DRender\\private\\bufferutils_p.h\n",
      "C:\\Users\\pmuhuri\\AppData\\Local\\anaconda3\\Library\\include\\qt\\Qt3DRender\\5.15.2\\Qt3DRender\\private\\visitorutils_p.h\n",
      "C:\\Users\\pmuhuri\\AppData\\Local\\anaconda3\\Library\\include\\qt\\QtPositioning\\5.15.2\\QtPositioning\\private\\qclipperutils_p.h\n",
      "C:\\Users\\pmuhuri\\AppData\\Local\\anaconda3\\Library\\include\\qt\\QtQuick3D\\5.15.2\\QtQuick3D\\private\\qquick3dshaderutils_p.h\n",
      "C:\\Users\\pmuhuri\\AppData\\Local\\anaconda3\\Library\\include\\qt\\QtQuick3DRuntimeRender\\5.15.2\\QtQuick3DRuntimeRender\\private\\qssgrendererutil_p.h\n",
      "C:\\Users\\pmuhuri\\AppData\\Local\\anaconda3\\Library\\qml\\QtQuick\\Controls\\Private\\CalendarUtils.js\n",
      "C:\\Users\\pmuhuri\\AppData\\Local\\anaconda3\\Library\\qml\\QtQuick3D\\designer\\images\\shaderutil.png\n",
      "C:\\Users\\pmuhuri\\AppData\\Local\\anaconda3\\Library\\qml\\QtQuick3D\\designer\\images\\shaderutil16.png\n",
      "C:\\Users\\pmuhuri\\AppData\\Local\\anaconda3\\Library\\qml\\QtQuick3D\\designer\\images\\shaderutil@2x.png\n",
      "C:\\Users\\pmuhuri\\AppData\\Local\\anaconda3\\pkgs\\boltons-23.0.0-py311haa95532_0\\info\\test\\boltons\\deprutils.py\n",
      "C:\\Users\\pmuhuri\\AppData\\Local\\anaconda3\\pkgs\\boltons-23.0.0-py311haa95532_0\\info\\test\\boltons\\easterutils.py\n",
      "C:\\Users\\pmuhuri\\AppData\\Local\\anaconda3\\pkgs\\boltons-23.0.0-py311haa95532_0\\info\\test\\boltons\\iterutils.py\n",
      "C:\\Users\\pmuhuri\\AppData\\Local\\anaconda3\\pkgs\\boltons-23.0.0-py311haa95532_0\\info\\test\\boltons\\strutils.py\n",
      "C:\\Users\\pmuhuri\\AppData\\Local\\anaconda3\\pkgs\\boltons-23.0.0-py311haa95532_0\\info\\test\\tests\\test_iterutils.py\n",
      "C:\\Users\\pmuhuri\\AppData\\Local\\anaconda3\\pkgs\\boltons-23.0.0-py311haa95532_0\\info\\test\\tests\\test_strutils.py\n",
      "C:\\Users\\pmuhuri\\AppData\\Local\\anaconda3\\pkgs\\boltons-23.0.0-py311haa95532_0\\Lib\\site-packages\\boltons\\deprutils.py\n",
      "C:\\Users\\pmuhuri\\AppData\\Local\\anaconda3\\pkgs\\boltons-23.0.0-py311haa95532_0\\Lib\\site-packages\\boltons\\easterutils.py\n",
      "C:\\Users\\pmuhuri\\AppData\\Local\\anaconda3\\pkgs\\boltons-23.0.0-py311haa95532_0\\Lib\\site-packages\\boltons\\iterutils.py\n",
      "C:\\Users\\pmuhuri\\AppData\\Local\\anaconda3\\pkgs\\boltons-23.0.0-py311haa95532_0\\Lib\\site-packages\\boltons\\strutils.py\n",
      "C:\\Users\\pmuhuri\\AppData\\Local\\anaconda3\\pkgs\\boltons-23.0.0-py311haa95532_0\\Lib\\site-packages\\boltons\\__pycache__\\deprutils.cpython-311.pyc\n",
      "C:\\Users\\pmuhuri\\AppData\\Local\\anaconda3\\pkgs\\boltons-23.0.0-py311haa95532_0\\Lib\\site-packages\\boltons\\__pycache__\\easterutils.cpython-311.pyc\n",
      "C:\\Users\\pmuhuri\\AppData\\Local\\anaconda3\\pkgs\\boltons-23.0.0-py311haa95532_0\\Lib\\site-packages\\boltons\\__pycache__\\iterutils.cpython-311.pyc\n",
      "C:\\Users\\pmuhuri\\AppData\\Local\\anaconda3\\pkgs\\boltons-23.0.0-py311haa95532_0\\Lib\\site-packages\\boltons\\__pycache__\\strutils.cpython-311.pyc\n",
      "C:\\Users\\pmuhuri\\AppData\\Local\\anaconda3\\pkgs\\fonttools-4.25.0-pyhd3eb1b0_0\\site-packages\\fontTools\\ttLib\\tables\\grUtils.py\n",
      "C:\\Users\\pmuhuri\\AppData\\Local\\anaconda3\\pkgs\\libprotobuf-3.20.3-h23ce68f_0\\Library\\include\\google\\protobuf\\stubs\\strutil.h\n",
      "C:\\Users\\pmuhuri\\AppData\\Local\\anaconda3\\pkgs\\qt-main-5.15.2-h879a1e9_9\\Library\\include\\qt\\Qt3DRender\\5.15.2\\Qt3DRender\\private\\bufferutils_p.h\n",
      "C:\\Users\\pmuhuri\\AppData\\Local\\anaconda3\\pkgs\\qt-main-5.15.2-h879a1e9_9\\Library\\include\\qt\\Qt3DRender\\5.15.2\\Qt3DRender\\private\\visitorutils_p.h\n",
      "C:\\Users\\pmuhuri\\AppData\\Local\\anaconda3\\pkgs\\qt-main-5.15.2-h879a1e9_9\\Library\\include\\qt\\QtPositioning\\5.15.2\\QtPositioning\\private\\qclipperutils_p.h\n",
      "C:\\Users\\pmuhuri\\AppData\\Local\\anaconda3\\pkgs\\qt-main-5.15.2-h879a1e9_9\\Library\\include\\qt\\QtQuick3D\\5.15.2\\QtQuick3D\\private\\qquick3dshaderutils_p.h\n",
      "C:\\Users\\pmuhuri\\AppData\\Local\\anaconda3\\pkgs\\qt-main-5.15.2-h879a1e9_9\\Library\\include\\qt\\QtQuick3DRuntimeRender\\5.15.2\\QtQuick3DRuntimeRender\\private\\qssgrendererutil_p.h\n",
      "C:\\Users\\pmuhuri\\AppData\\Local\\anaconda3\\pkgs\\qt-main-5.15.2-h879a1e9_9\\Library\\qml\\QtQuick\\Controls\\Private\\CalendarUtils.js\n",
      "C:\\Users\\pmuhuri\\AppData\\Local\\anaconda3\\pkgs\\qt-main-5.15.2-h879a1e9_9\\Library\\qml\\QtQuick3D\\designer\\images\\shaderutil.png\n",
      "C:\\Users\\pmuhuri\\AppData\\Local\\anaconda3\\pkgs\\qt-main-5.15.2-h879a1e9_9\\Library\\qml\\QtQuick3D\\designer\\images\\shaderutil16.png\n",
      "C:\\Users\\pmuhuri\\AppData\\Local\\anaconda3\\pkgs\\qt-main-5.15.2-h879a1e9_9\\Library\\qml\\QtQuick3D\\designer\\images\\shaderutil@2x.png\n",
      "C:\\Users\\pmuhuri\\AppData\\Local\\Microsoft\\OneDrive\\24.062.0326.0002\\qml\\QtQuick\\Controls\\Private\\CalendarUtils.js\n",
      "C:\\Users\\pmuhuri\\AppData\\Local\\Programs\\Git\\usr\\bin\\msys-aprutil-1-0.dll\n",
      "C:\\Users\\pmuhuri\\AppData\\Local\\R\\win-library\\4.2\\sourcetools\\include\\sourcetools\\r\\RUtils.h\n",
      "C:\\Users\\pmuhuri\\AppData\\Roaming\\Intel Corporation\\IAStorUtil\n",
      "C:\\Users\\pmuhuri\\Documents\\R\\win-library\\3.6\\sourcetools\\include\\sourcetools\\r\\RUtils.h\n",
      "C:\\Users\\pmuhuri\\Downloads\\Downloads\\SASOpenSrcGitLab\\Introduction to SASPy\\Installation Tutorials\\install_images\\sas_oda_rutil.zip\n",
      "C:\\Users\\pmuhuri\\Downloads\\SASOpenSrcGitLab\\Introduction to SASPy\\Installation Tutorials\\install_images\\sas_oda_rutil.zip\n",
      "C:\\Users\\pmuhuri\\Downloads\\SAS_94_2022_Depot-M7-Windows-English\\products\\securejava__94120_cd533__prt__xx__sp0__1\\sas.rutil.jar\n",
      "C:\\Users\\pmuhuri\\Downloads\\SAS_94_2022_Depot-M7-Windows-English\\products\\securejava__94120_cd533__prt__xx__sp0__1\\sas.rutil.nls.jar\n",
      "C:\\Users\\pmuhuri\\Downloads\\SAS_94_2022_Depot-M7-Windows-English\\products\\securejava__94120_cd533__prt__xx__sp0__1\\sastpj.rutil.jar\n",
      "C:\\Users\\pmuhuri\\Downloads\\SAS_94_2022_Depot-M7-Windows-English\\products\\securejava__94120__prt__xx__sp0__1\\sas.rutil.jar\n",
      "C:\\Users\\pmuhuri\\Downloads\\SAS_94_2022_Depot-M7-Windows-English\\products\\securejava__94120__prt__xx__sp0__1\\sas.rutil.nls.jar\n",
      "C:\\Users\\pmuhuri\\Downloads\\SAS_94_2022_Depot-M7-Windows-English\\products\\securejava__94120__prt__xx__sp0__1\\sastpj.rutil.jar\n",
      "C:\\Users\\pmuhuri\\Downloads\\SAS_94_2022_Depot-M7-Windows-English\\vjr\\sas.rutil.nls_904000.0.0.20130522190000_v940.zip\n",
      "C:\\Users\\pmuhuri\\Downloads\\SAS_94_2022_Depot-M7-Windows-English\\vjr\\sas.rutil.nls_904300.0.0.20150204190000_v940m3.zip\n",
      "C:\\Users\\pmuhuri\\Downloads\\SAS_94_2022_Depot-M7-Windows-English\\vjr\\sas.rutil.nls_904400.0.0.20160427190000_v940m4.zip\n",
      "C:\\Users\\pmuhuri\\Downloads\\SAS_94_2022_Depot-M7-Windows-English\\vjr\\sas.rutil.nls_904500.0.0.20170816190000_v940m5.zip\n",
      "C:\\Users\\pmuhuri\\Downloads\\SAS_94_2022_Depot-M7-Windows-English\\vjr\\sas.rutil.nls_904600.0.0.20181017190000_v940m6.zip\n",
      "C:\\Users\\pmuhuri\\Downloads\\SAS_94_2022_Depot-M7-Windows-English\\vjr\\sas.rutil.nls_904700.0.0.20200715190000_v940m7.zip\n",
      "C:\\Users\\pmuhuri\\Downloads\\SAS_94_2022_Depot-M7-Windows-English\\vjr\\sas.rutil_904000.0.0.20130522190000_v940.zip\n",
      "C:\\Users\\pmuhuri\\Downloads\\SAS_94_2022_Depot-M7-Windows-English\\vjr\\sas.rutil_904300.0.0.20150204190000_v940m3.zip\n",
      "C:\\Users\\pmuhuri\\Downloads\\SAS_94_2022_Depot-M7-Windows-English\\vjr\\sas.rutil_904400.1.0.20160824190000_v940m4.zip\n",
      "C:\\Users\\pmuhuri\\Downloads\\SAS_94_2022_Depot-M7-Windows-English\\vjr\\sas.rutil_904500.0.0.20170816190000_v940m5.zip\n",
      "C:\\Users\\pmuhuri\\Downloads\\SAS_94_2022_Depot-M7-Windows-English\\vjr\\sas.rutil_904600.0.0.20181017190000_v940m6.zip\n",
      "C:\\Users\\pmuhuri\\Downloads\\SAS_94_2022_Depot-M7-Windows-English\\vjr\\sas.rutil_904700.0.0.20200715190000_v940m7.zip\n",
      "C:\\Users\\pmuhuri\\Downloads\\SAS_94_2022_Depot-M7-Windows-English\\vjr\\sastpj.rutil_6.1.0.0_SAS_20121211183517.zip\n",
      "C:\\Users\\pmuhuri\\Downloads\\SAS_94_2022_Depot-M7-Windows-English\\vjr\\sastpj.rutil_6.1.2.0_SAS_20180917093823.zip\n",
      "C:\\Users\\pmuhuri\\SASCourse\\SAS_ODA\\sas.rutil.jar\n",
      "C:\\Users\\pmuhuri\\SASCourse\\SAS_ODA\\sas.rutil.nls.jar\n",
      "C:\\Users\\pmuhuri\\SASCourse\\SAS_ODA\\sastpj.rutil.jar\n",
      "C:\\Windows\\CCM\\Microsoft.ConfigurationManager.SoftwareCenterUtilities.dll\n",
      "C:\\Windows\\servicing\\LCU\\Package_for_RollupFix~31bf3856ad364e35~amd64~~19041.4046.1.11\\amd64_microsoft-windows-u..ccess-userdatautils_31bf3856ad364e35_10.0.19041.3636_none_538d66825661c164\\f\\userdataplatformhelperutil.dll\n",
      "C:\\Windows\\servicing\\LCU\\Package_for_RollupFix~31bf3856ad364e35~amd64~~19041.4046.1.11\\amd64_microsoft-windows-u..ccess-userdatautils_31bf3856ad364e35_10.0.19041.3636_none_538d66825661c164\\r\\userdataplatformhelperutil.dll\n",
      "C:\\Windows\\servicing\\LCU\\Package_for_RollupFix~31bf3856ad364e35~amd64~~19041.4046.1.11\\amd64_microsoft-windows-wsd-provider-utilities_31bf3856ad364e35_10.0.19041.3636_none_f03470fe4de4ca65\\n\\wsdproviderutil.dll\n",
      "C:\\Windows\\servicing\\LCU\\Package_for_RollupFix~31bf3856ad364e35~amd64~~19041.4046.1.11\\wow64_microsoft-windows-u..ccess-userdatautils_31bf3856ad364e35_10.0.19041.3636_none_5de210d48ac2835f\\f\\userdataplatformhelperutil.dll\n",
      "C:\\Windows\\servicing\\LCU\\Package_for_RollupFix~31bf3856ad364e35~amd64~~19041.4046.1.11\\wow64_microsoft-windows-u..ccess-userdatautils_31bf3856ad364e35_10.0.19041.3636_none_5de210d48ac2835f\\r\\userdataplatformhelperutil.dll\n",
      "C:\\Windows\\servicing\\LCU\\Package_for_RollupFix~31bf3856ad364e35~amd64~~19041.4046.1.11\\wow64_microsoft-windows-wsd-provider-utilities_31bf3856ad364e35_10.0.19041.3636_none_fa891b5082458c60\\n\\wsdproviderutil.dll\n",
      "C:\\Windows\\servicing\\LCU\\Package_for_RollupFix~31bf3856ad364e35~amd64~~19041.4170.1.9\\amd64_microsoft-windows-u..ccess-userdatautils_31bf3856ad364e35_10.0.19041.3636_none_538d66825661c164\\f\\userdataplatformhelperutil.dll\n",
      "C:\\Windows\\servicing\\LCU\\Package_for_RollupFix~31bf3856ad364e35~amd64~~19041.4170.1.9\\amd64_microsoft-windows-u..ccess-userdatautils_31bf3856ad364e35_10.0.19041.3636_none_538d66825661c164\\r\\userdataplatformhelperutil.dll\n",
      "C:\\Windows\\servicing\\LCU\\Package_for_RollupFix~31bf3856ad364e35~amd64~~19041.4170.1.9\\amd64_microsoft-windows-wsd-provider-utilities_31bf3856ad364e35_10.0.19041.3636_none_f03470fe4de4ca65\\n\\wsdproviderutil.dll\n",
      "C:\\Windows\\servicing\\LCU\\Package_for_RollupFix~31bf3856ad364e35~amd64~~19041.4170.1.9\\wow64_microsoft-windows-u..ccess-userdatautils_31bf3856ad364e35_10.0.19041.3636_none_5de210d48ac2835f\\f\\userdataplatformhelperutil.dll\n",
      "C:\\Windows\\servicing\\LCU\\Package_for_RollupFix~31bf3856ad364e35~amd64~~19041.4170.1.9\\wow64_microsoft-windows-u..ccess-userdatautils_31bf3856ad364e35_10.0.19041.3636_none_5de210d48ac2835f\\r\\userdataplatformhelperutil.dll\n",
      "C:\\Windows\\servicing\\LCU\\Package_for_RollupFix~31bf3856ad364e35~amd64~~19041.4170.1.9\\wow64_microsoft-windows-wsd-provider-utilities_31bf3856ad364e35_10.0.19041.3636_none_fa891b5082458c60\\n\\wsdproviderutil.dll\n",
      "C:\\Windows\\servicing\\LCU\\Package_for_RollupFix~31bf3856ad364e35~amd64~~19041.4291.1.10\\amd64_microsoft-windows-u..ccess-userdatautils_31bf3856ad364e35_10.0.19041.4239_none_53b863c056419baa\\f\\userdataplatformhelperutil.dll\n",
      "C:\\Windows\\servicing\\LCU\\Package_for_RollupFix~31bf3856ad364e35~amd64~~19041.4291.1.10\\amd64_microsoft-windows-u..ccess-userdatautils_31bf3856ad364e35_10.0.19041.4239_none_53b863c056419baa\\r\\userdataplatformhelperutil.dll\n",
      "C:\\Windows\\servicing\\LCU\\Package_for_RollupFix~31bf3856ad364e35~amd64~~19041.4291.1.10\\amd64_microsoft-windows-wsd-provider-utilities_31bf3856ad364e35_10.0.19041.3636_none_f03470fe4de4ca65\\n\\wsdproviderutil.dll\n",
      "C:\\Windows\\servicing\\LCU\\Package_for_RollupFix~31bf3856ad364e35~amd64~~19041.4291.1.10\\wow64_microsoft-windows-u..ccess-userdatautils_31bf3856ad364e35_10.0.19041.4239_none_5e0d0e128aa25da5\\f\\userdataplatformhelperutil.dll\n",
      "C:\\Windows\\servicing\\LCU\\Package_for_RollupFix~31bf3856ad364e35~amd64~~19041.4291.1.10\\wow64_microsoft-windows-u..ccess-userdatautils_31bf3856ad364e35_10.0.19041.4239_none_5e0d0e128aa25da5\\r\\userdataplatformhelperutil.dll\n",
      "C:\\Windows\\servicing\\LCU\\Package_for_RollupFix~31bf3856ad364e35~amd64~~19041.4291.1.10\\wow64_microsoft-windows-wsd-provider-utilities_31bf3856ad364e35_10.0.19041.3636_none_fa891b5082458c60\\n\\wsdproviderutil.dll\n",
      "C:\\Windows\\System32\\UserDataPlatformHelperUtil.dll\n",
      "C:\\Windows\\System32\\UserDataTypeHelperUtil.dll\n",
      "C:\\Windows\\System32\\WsdProviderUtil.dll\n",
      "C:\\Windows\\SysWOW64\\UserDataPlatformHelperUtil.dll\n",
      "C:\\Windows\\SysWOW64\\UserDataTypeHelperUtil.dll\n",
      "C:\\Windows\\SysWOW64\\WsdProviderUtil.dll\n",
      "C:\\Windows\\WinSxS\\amd64_microsoft-windows-u..ccess-userdatautils_31bf3856ad364e35_10.0.19041.3636_none_538d66825661c164\\UserDataPlatformHelperUtil.dll\n",
      "C:\\Windows\\WinSxS\\amd64_microsoft-windows-u..ccess-userdatautils_31bf3856ad364e35_10.0.19041.3636_none_538d66825661c164\\UserDataTypeHelperUtil.dll\n",
      "C:\\Windows\\WinSxS\\amd64_microsoft-windows-u..ccess-userdatautils_31bf3856ad364e35_10.0.19041.3636_none_538d66825661c164\\f\\UserDataPlatformHelperUtil.dll\n",
      "C:\\Windows\\WinSxS\\amd64_microsoft-windows-u..ccess-userdatautils_31bf3856ad364e35_10.0.19041.3636_none_538d66825661c164\\r\\UserDataPlatformHelperUtil.dll\n",
      "C:\\Windows\\WinSxS\\amd64_microsoft-windows-u..ccess-userdatautils_31bf3856ad364e35_10.0.19041.4239_none_53b863c056419baa\\UserDataPlatformHelperUtil.dll\n",
      "C:\\Windows\\WinSxS\\amd64_microsoft-windows-u..ccess-userdatautils_31bf3856ad364e35_10.0.19041.4239_none_53b863c056419baa\\UserDataTypeHelperUtil.dll\n",
      "C:\\Windows\\WinSxS\\amd64_microsoft-windows-u..ccess-userdatautils_31bf3856ad364e35_10.0.19041.4239_none_53b863c056419baa\\f\\UserDataPlatformHelperUtil.dll\n",
      "C:\\Windows\\WinSxS\\amd64_microsoft-windows-u..ccess-userdatautils_31bf3856ad364e35_10.0.19041.4239_none_53b863c056419baa\\r\\UserDataPlatformHelperUtil.dll\n",
      "C:\\Windows\\WinSxS\\amd64_microsoft-windows-wsd-provider-utilities_31bf3856ad364e35_10.0.19041.3636_none_f03470fe4de4ca65\\WsdProviderUtil.dll\n",
      "C:\\Windows\\WinSxS\\amd64_microsoft-windows-wsd-provider-utilities_31bf3856ad364e35_10.0.19041.3636_none_f03470fe4de4ca65\\n\\WsdProviderUtil.dll\n",
      "C:\\Windows\\WinSxS\\Temp\\InFlight\\572c67be9a59da01a70400009c09c81b\\amd64_microsoft-windows-u..ccess-userdatautils_31bf3856ad364e35_10.0.19041.2673_none_5391aa1c565ddcb6\\UserDataTypeHelperUtil.dll\n",
      "C:\\Windows\\WinSxS\\Temp\\InFlight\\9ab458386e71d8015e040000b0349014\\amd64_microsoft-windows-u..ccess-userdatautils_31bf3856ad364e35_10.0.19041.746_none_bcef1a8affdc91f3\\UserDataTypeHelperUtil.dll\n",
      "C:\\Windows\\WinSxS\\Temp\\InFlight\\9b718f8024fcd901b7020000a0350841\\amd64_microsoft-windows-u..ccess-userdatautils_31bf3856ad364e35_10.0.19041.1806_none_5374c2005674b2f3\\UserDataTypeHelperUtil.dll\n",
      "C:\\Windows\\WinSxS\\Temp\\InFlight\\b9791c1236e9d801d80600008405d02f\\amd64_microsoft-windows-u..ccess-userdatautils_31bf3856ad364e35_10.0.19041.1081_none_53d3b598562c1dfe\\UserDataTypeHelperUtil.dll\n",
      "C:\\Windows\\WinSxS\\wow64_microsoft-windows-u..ccess-userdatautils_31bf3856ad364e35_10.0.19041.3636_none_5de210d48ac2835f\\UserDataPlatformHelperUtil.dll\n",
      "C:\\Windows\\WinSxS\\wow64_microsoft-windows-u..ccess-userdatautils_31bf3856ad364e35_10.0.19041.3636_none_5de210d48ac2835f\\UserDataTypeHelperUtil.dll\n",
      "C:\\Windows\\WinSxS\\wow64_microsoft-windows-u..ccess-userdatautils_31bf3856ad364e35_10.0.19041.3636_none_5de210d48ac2835f\\f\\UserDataPlatformHelperUtil.dll\n",
      "C:\\Windows\\WinSxS\\wow64_microsoft-windows-u..ccess-userdatautils_31bf3856ad364e35_10.0.19041.3636_none_5de210d48ac2835f\\r\\UserDataPlatformHelperUtil.dll\n",
      "C:\\Windows\\WinSxS\\wow64_microsoft-windows-u..ccess-userdatautils_31bf3856ad364e35_10.0.19041.4239_none_5e0d0e128aa25da5\\UserDataPlatformHelperUtil.dll\n",
      "C:\\Windows\\WinSxS\\wow64_microsoft-windows-u..ccess-userdatautils_31bf3856ad364e35_10.0.19041.4239_none_5e0d0e128aa25da5\\UserDataTypeHelperUtil.dll\n",
      "C:\\Windows\\WinSxS\\wow64_microsoft-windows-u..ccess-userdatautils_31bf3856ad364e35_10.0.19041.4239_none_5e0d0e128aa25da5\\f\\UserDataPlatformHelperUtil.dll\n",
      "C:\\Windows\\WinSxS\\wow64_microsoft-windows-u..ccess-userdatautils_31bf3856ad364e35_10.0.19041.4239_none_5e0d0e128aa25da5\\r\\UserDataPlatformHelperUtil.dll\n",
      "C:\\Windows\\WinSxS\\wow64_microsoft-windows-wsd-provider-utilities_31bf3856ad364e35_10.0.19041.3636_none_fa891b5082458c60\\WsdProviderUtil.dll\n",
      "C:\\Windows\\WinSxS\\wow64_microsoft-windows-wsd-provider-utilities_31bf3856ad364e35_10.0.19041.3636_none_fa891b5082458c60\\n\\WsdProviderUtil.dll\n"
     ]
    }
   ],
   "source": [
    "import glob\n",
    "path = 'C:\\\\'\n",
    "files = (f for f in glob.glob(path + '**/*rutil*', recursive=True))\n",
    "for f in files:\n",
    "    print(f)"
   ]
  },
  {
   "cell_type": "code",
   "execution_count": null,
   "id": "cbed7644-9626-42a3-b717-a9ef084a8721",
   "metadata": {},
   "outputs": [],
   "source": []
  }
 ],
 "metadata": {
  "kernelspec": {
   "display_name": "Python 3 (ipykernel)",
   "language": "python",
   "name": "python3"
  },
  "language_info": {
   "codemirror_mode": {
    "name": "ipython",
    "version": 3
   },
   "file_extension": ".py",
   "mimetype": "text/x-python",
   "name": "python",
   "nbconvert_exporter": "python",
   "pygments_lexer": "ipython3",
   "version": "3.11.5"
  }
 },
 "nbformat": 4,
 "nbformat_minor": 5
}
