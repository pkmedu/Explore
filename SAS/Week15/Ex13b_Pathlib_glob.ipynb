{
 "cells": [
  {
   "cell_type": "code",
   "execution_count": 1,
   "metadata": {},
   "outputs": [
    {
     "name": "stdout",
     "output_type": "stream",
     "text": [
      "C:\\Users\\pmuhuri\\AppData\\Local\\Continuum\\anaconda3\\Lib\\site-packages\\saspy\\java\\saspyiom.jar\n"
     ]
    }
   ],
   "source": [
    "from pathlib import Path\n",
    "dir =  Path('C:/Users/pmuhuri/AppData/Local/Continuum/anaconda3/Lib/site-packages/saspy/java')\n",
    "files = dir.glob('*.*')\n",
    "for i in files:\n",
    "    print(i)"
   ]
  },
  {
   "cell_type": "code",
   "execution_count": 1,
   "metadata": {},
   "outputs": [
    {
     "name": "stdout",
     "output_type": "stream",
     "text": [
      "C:\\Users\\pmuhuri\\Documents\\Ex12_download_unzip_create_macro.sas\n",
      "C:\\Users\\pmuhuri\\Documents\\Ex_input_data.sas\n",
      "C:\\Users\\pmuhuri\\Documents\\Ex_macro_case_study.sas\n",
      "C:\\Users\\pmuhuri\\Documents\\Failure_time.sas\n",
      "C:\\Users\\pmuhuri\\Documents\\measurement.sas\n",
      "C:\\Users\\pmuhuri\\Documents\\SASPy_text.sas\n",
      "C:\\Users\\pmuhuri\\Documents\\Weighted.sas\n"
     ]
    }
   ],
   "source": [
    "from pathlib import Path\n",
    "dir =  Path('C:/Users/pmuhuri/Documents')\n",
    "files = dir.glob('*.sas')\n",
    "for i in files:\n",
    "    print(i)"
   ]
  },
  {
   "cell_type": "code",
   "execution_count": 4,
   "metadata": {},
   "outputs": [
    {
     "name": "stdout",
     "output_type": "stream",
     "text": [
      "0    Ex12_download_unzip_create_macro.sas\n",
      "1                       Ex_input_data.sas\n",
      "2                 Ex_macro_case_study.sas\n",
      "3                        Failure_time.sas\n",
      "4                         measurement.sas\n",
      "5                          SASPy_text.sas\n",
      "6                            Weighted.sas\n",
      "7         Ex21_Delete_Macro_Variables.sas\n",
      "8             _3Create_Format_species.sas\n",
      "9                                Test.sas\n",
      "Name: File_Name, dtype: object\n"
     ]
    }
   ],
   "source": [
    "import pandas as pd\n",
    "from pathlib import Path\n",
    "import time\n",
    "\n",
    "p = Path(\"C:/Users/pmuhuri/Documents\")\n",
    "all_files = []\n",
    "for i in p.rglob('*.sas'):\n",
    "    all_files.append((i.name, i.parent, time.ctime(i.stat().st_ctime)))\n",
    "\n",
    "columns = [\"File_Name\", \"Parent\", \"Created\"]\n",
    "df = pd.DataFrame.from_records(all_files, columns=columns)\n",
    "\n",
    "print(df.iloc[:,0])"
   ]
  },
  {
   "cell_type": "code",
   "execution_count": 5,
   "metadata": {},
   "outputs": [
    {
     "name": "stdout",
     "output_type": "stream",
     "text": [
      "C:\\Program Files\\SASHome\\SASDeploymentManager\\9.4\\products\\deploywiz__94492__prt__xx__sp0__1\\deploywiz\\sas.svc.connection.jar\n",
      "C:\\Program Files\\SASHome\\SASDeploymentManager\\9.4\\products\\deploywiz__94492__prt__xx__sp0__1\\deploywiz\\log4j.jar\n",
      "C:\\Program Files\\SASHome\\SASDeploymentManager\\9.4\\products\\deploywiz__94492__prt__xx__sp0__1\\deploywiz\\sas.security.sspi.jar\n",
      "C:\\Program Files\\SASHome\\SASDeploymentManager\\9.4\\products\\deploywiz__94492__prt__xx__sp0__1\\deploywiz\\sas.core.jar\n"
     ]
    }
   ],
   "source": [
    "import os\n",
    "myfiles = ['sas.svc.connection.jar', 'log4j.jar', 'sas.security.sspi.jar', 'sas.core.jar']\n",
    "for filename in myfiles:\n",
    "    print(os.path.join('C:\\\\Program Files\\\\SASHome\\\\SASDeploymentManager\\\\9.4\\\\products\\\\deploywiz__94492__prt__xx__sp0__1\\\\deploywiz', \n",
    "    filename))\n"
   ]
  },
  {
   "cell_type": "code",
   "execution_count": null,
   "metadata": {},
   "outputs": [],
   "source": [
    "import os\n",
    "for root, dirs, files in os.walk('C:\\Program Files'):\n",
    "    for file in files:\n",
    "        if file in files:\n",
    "            if file.endswith('.doc'):\n",
    "                print(os.path.join(root, file))"
   ]
  },
  {
   "cell_type": "code",
   "execution_count": 18,
   "metadata": {},
   "outputs": [
    {
     "name": "stdout",
     "output_type": "stream",
     "text": [
      "C:\\Program Files\\SASHome\\SASDeploymentManager\\9.4\\products\\cfgwizard__94492__prt__xx__sp0__1\\Utilities\\AppServer\\lib\\log4j.jar\n",
      "C:\\Program Files\\SASHome\\SASDeploymentManager\\9.4\\products\\cfgwizard__94492__prt__xx__sp0__1\\Utilities\\AppServer\\Source\\Config\\vfabrictcsvr\\jars\\log4j\\log4j.jar\n",
      "C:\\Program Files\\SASHome\\SASDeploymentManager\\9.4\\products\\deploywiz__94492__prt__xx__sp0__1\\deploywiz\\sas.svc.connection.jar\n",
      "C:\\Program Files\\SASHome\\SASDeploymentManager\\9.4\\products\\deploywiz__94492__prt__xx__sp0__1\\deploywiz\\log4j.jar\n",
      "C:\\Program Files\\SASHome\\SASDeploymentManager\\9.4\\products\\deploywiz__94492__prt__xx__sp0__1\\deploywiz\\sas.security.sspi.jar\n",
      "C:\\Program Files\\SASHome\\SASDeploymentManager\\9.4\\products\\deploywiz__94492__prt__xx__sp0__1\\deploywiz\\sas.core.jar\n",
      "C:\\Program Files\\SASHome\\SASFoundation\\9.4\\dmine\\sasmisc\\sas.core.jar\n",
      "C:\\Program Files\\SASHome\\SASGraphJavaApplets\\9.4\\sas.svc.connection.jar\n",
      "C:\\Program Files\\SASHome\\SASGraphJavaApplets\\9.4\\log4j.jar\n",
      "C:\\Program Files\\SASHome\\SASGraphJavaApplets\\9.4\\sas.security.sspi.jar\n",
      "C:\\Program Files\\SASHome\\SASGraphJavaApplets\\9.4\\sas.core.jar\n",
      "C:\\Program Files\\SASHome\\SASStudioSingleUser\\3.71\\war\\WEB-INF\\lib\\sas.svc.connection.jar\n",
      "C:\\Program Files\\SASHome\\SASStudioSingleUser\\3.71\\war\\WEB-INF\\lib\\log4j.jar\n",
      "C:\\Program Files\\SASHome\\SASStudioSingleUser\\3.71\\war\\WEB-INF\\lib\\sas.security.sspi.jar\n",
      "C:\\Program Files\\SASHome\\SASStudioSingleUser\\3.71\\war\\WEB-INF\\lib\\sas.core.jar\n",
      "C:\\Program Files\\SASHome\\SASVersionedJarRepository\\eclipse\\plugins\\Log4J_1.2.15.0_SAS_20121211183158\\log4j.jar\n",
      "C:\\Program Files\\SASHome\\SASVersionedJarRepository\\eclipse\\plugins\\sas.core_904000.0.0.20130522190000_v940\\sas.core.jar\n",
      "C:\\Program Files\\SASHome\\SASVersionedJarRepository\\eclipse\\plugins\\sas.core_904300.5.0.20150513190000_v940m3\\sas.core.jar\n",
      "C:\\Program Files\\SASHome\\SASVersionedJarRepository\\eclipse\\plugins\\sas.core_904400.1.0.20160921190000_v940m4\\sas.core.jar\n",
      "C:\\Program Files\\SASHome\\SASVersionedJarRepository\\eclipse\\plugins\\sas.core_904500.0.0.20170816190000_v940m5\\sas.core.jar\n",
      "C:\\Program Files\\SASHome\\SASVersionedJarRepository\\eclipse\\plugins\\sas.security.sspi_904500.0.0.20170816190000_v940m5\\sas.security.sspi.jar\n",
      "C:\\Program Files\\SASHome\\SASVersionedJarRepository\\eclipse\\plugins\\sas.svc.connection_904500.0.0.20170816190000_v940m5\\sas.svc.connection.jar\n",
      "C:\\Program Files\\_SASHome\\SASDeploymentManager\\9.4\\products\\cfgwizard__94230__prt__xx__sp0__1\\Utilities\\AppServer\\lib\\log4j.jar\n",
      "C:\\Program Files\\_SASHome\\SASDeploymentManager\\9.4\\products\\cfgwizard__94230__prt__xx__sp0__1\\Utilities\\AppServer\\Source\\Config\\vfabrictcsvr\\jars\\log4j\\log4j.jar\n",
      "C:\\Program Files\\_SASHome\\SASDeploymentManager\\9.4\\products\\deploywiz__94230__prt__xx__sp0__1\\deploywiz\\sas.svc.connection.jar\n",
      "C:\\Program Files\\_SASHome\\SASDeploymentManager\\9.4\\products\\deploywiz__94230__prt__xx__sp0__1\\deploywiz\\log4j.jar\n",
      "C:\\Program Files\\_SASHome\\SASDeploymentManager\\9.4\\products\\deploywiz__94230__prt__xx__sp0__1\\deploywiz\\sas.security.sspi.jar\n",
      "C:\\Program Files\\_SASHome\\SASDeploymentManager\\9.4\\products\\deploywiz__94230__prt__xx__sp0__1\\deploywiz\\sas.core.jar\n",
      "C:\\Program Files\\_SASHome\\SASFoundation\\9.4\\dmine\\sasmisc\\sas.core.jar\n",
      "C:\\Program Files\\_SASHome\\SASGraphJavaApplets\\9.4\\sas.svc.connection.jar\n",
      "C:\\Program Files\\_SASHome\\SASGraphJavaApplets\\9.4\\log4j.jar\n",
      "C:\\Program Files\\_SASHome\\SASGraphJavaApplets\\9.4\\sas.security.sspi.jar\n",
      "C:\\Program Files\\_SASHome\\SASGraphJavaApplets\\9.4\\sas.core.jar\n",
      "C:\\Program Files\\_SASHome\\SASStudioSingleUser\\3.2\\war\\WEB-INF\\lib\\sas.svc.connection.jar\n",
      "C:\\Program Files\\_SASHome\\SASStudioSingleUser\\3.2\\war\\WEB-INF\\lib\\log4j.jar\n",
      "C:\\Program Files\\_SASHome\\SASStudioSingleUser\\3.2\\war\\WEB-INF\\lib\\sas.security.sspi.jar\n",
      "C:\\Program Files\\_SASHome\\SASStudioSingleUser\\3.2\\war\\WEB-INF\\lib\\sas.core.jar\n",
      "C:\\Program Files\\_SASHome\\SASVersionedJarRepository\\eclipse\\plugins\\Log4J_1.2.15.0_SAS_20121211183158\\log4j.jar\n",
      "C:\\Program Files\\_SASHome\\SASVersionedJarRepository\\eclipse\\plugins\\sas.core_904000.0.0.20130522190000_v940\\sas.core.jar\n",
      "C:\\Program Files\\_SASHome\\SASVersionedJarRepository\\eclipse\\plugins\\sas.core_904100.1.0.20131002190000_v940m1\\sas.core.jar\n",
      "C:\\Program Files\\_SASHome\\SASVersionedJarRepository\\eclipse\\plugins\\sas.core_904200.0.0.20140723190000_v940m2\\sas.core.jar\n",
      "C:\\Program Files\\_SASHome\\SASVersionedJarRepository\\eclipse\\plugins\\sas.security.sspi_904000.0.0.20130522190000_v940\\sas.security.sspi.jar\n",
      "C:\\Program Files\\_SASHome\\SASVersionedJarRepository\\eclipse\\plugins\\sas.svc.connection_904000.1.0.20130529204015_v940\\sas.svc.connection.jar\n",
      "C:\\Program Files\\_SASHome\\SASVersionedJarRepository\\eclipse\\plugins\\sas.svc.connection_904100.3.0.20131002190000_v940m1\\sas.svc.connection.jar\n",
      "C:\\Program Files\\_SASHome\\SASVersionedJarRepository\\eclipse\\plugins\\sas.svc.connection_904200.0.0.20140723190000_v940m2\\sas.svc.connection.jar\n"
     ]
    }
   ],
   "source": [
    "import os\n",
    "myfiles = ['sas.svc.connection.jar', 'log4j.jar', 'sas.security.sspi.jar', 'sas.core.jar']\n",
    "for root, dirs, files in os.walk('C:\\Program Files\\SASHome\\SASDeploymentManager'):\n",
    "    for file in myfiles:\n",
    "        if file in files:\n",
    "            print(os.path.join(root, file))"
   ]
  },
  {
   "cell_type": "code",
   "execution_count": null,
   "metadata": {},
   "outputs": [],
   "source": []
  }
 ],
 "metadata": {
  "kernelspec": {
   "display_name": "Python 3",
   "language": "python",
   "name": "python3"
  },
  "language_info": {
   "codemirror_mode": {
    "name": "ipython",
    "version": 3
   },
   "file_extension": ".py",
   "mimetype": "text/x-python",
   "name": "python",
   "nbconvert_exporter": "python",
   "pygments_lexer": "ipython3",
   "version": "3.7.1"
  }
 },
 "nbformat": 4,
 "nbformat_minor": 2
}
