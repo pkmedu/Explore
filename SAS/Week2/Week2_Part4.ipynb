{
 "cells": [
  {
   "cell_type": "markdown",
   "id": "cbf25c17-a3c0-4997-aa71-18e0dbc58d9a",
   "metadata": {
    "tags": []
   },
   "source": [
    "## The George Washington University \n",
    "### STAT 4197/STAT 6197 \n",
    "#### Week 2, Part 4: Understanding Compilation and Execution in SAS \n"
   ]
  },
  {
   "cell_type": "code",
   "execution_count": 1,
   "id": "cf3ab8f2-2e27-4ed9-b938-f9abb21f31cf",
   "metadata": {
    "tags": []
   },
   "outputs": [
    {
     "name": "stdout",
     "output_type": "stream",
     "text": [
      "\n",
      "5                                                          The SAS System                             14:35 Friday, January 24, 2025\n",
      "\n",
      "24         ods listing close;ods html5 (id=saspy_internal) file=_tomods1 options(bitmap_mode='inline') device=svg style=HTMLBlue;\n",
      "24       ! ods graphics on / outputfmt=png;\n",
      "\u001b[38;5;21mNOTE: Writing HTML5(SASPY_INTERNAL) Body file: _TOMODS1\u001b[0m\n",
      "25         \n",
      "26         *Ex6_Conpilation_Execution.sas;\n",
      "27         DATA work.HAVE;\n",
      "28         PUT 'After Compilation, Before Execution:' _ALL_;\n",
      "29          INPUT Name $ quiz1 quiz2 quiz3;\n",
      "30            Ave_Score = ROUND(MEAN(OF quiz1-quiz3),.01);\n",
      "31          put 'At End of Execution:' _ALL_;\n",
      "32          DATALINES;\n",
      "\n",
      "After Compilation, Before Execution:Name=  quiz1=. quiz2=. quiz3=. Ave_Score=. _ERROR_=0 _N_=1\n",
      "At End of Execution:Name=Amy quiz1=78 quiz2=84 quiz3=82 Ave_Score=81.33 _ERROR_=0 _N_=1\n",
      "After Compilation, Before Execution:Name=  quiz1=. quiz2=. quiz3=. Ave_Score=. _ERROR_=0 _N_=2\n",
      "At End of Execution:Name=Neil quiz1=90 quiz2=85 quiz3=86 Ave_Score=87 _ERROR_=0 _N_=2\n",
      "After Compilation, Before Execution:Name=  quiz1=. quiz2=. quiz3=. Ave_Score=. _ERROR_=0 _N_=3\n",
      "At End of Execution:Name=John quiz1=82 quiz2=79 quiz3=89 Ave_Score=83.33 _ERROR_=0 _N_=3\n",
      "After Compilation, Before Execution:Name=  quiz1=. quiz2=. quiz3=. Ave_Score=. _ERROR_=0 _N_=4\n",
      "At End of Execution:Name=Keya quiz1=78 quiz2=86 quiz3=78 Ave_Score=80.67 _ERROR_=0 _N_=4\n",
      "After Compilation, Before Execution:Name=  quiz1=. quiz2=. quiz3=. Ave_Score=. _ERROR_=0 _N_=5\n",
      "\u001b[38;5;21mNOTE: The data set WORK.HAVE has 4 observations and 5 variables.\u001b[0m\n",
      "\u001b[38;5;21mNOTE: DATA statement used (Total process time):\n",
      "      real time           0.02 seconds\n",
      "      cpu time            0.01 seconds\n",
      "      \u001b[0m\n",
      "\n",
      "37          ;\n",
      "38          run;\n",
      "39         \n",
      "40         \n",
      "41         \n",
      "42         ods html5 (id=saspy_internal) close;ods listing;\n",
      "43         \n",
      "\n",
      "6                                                          The SAS System                             14:35 Friday, January 24, 2025\n",
      "\n",
      "44         \n"
     ]
    }
   ],
   "source": [
    "*Ex6_Conpilation_Execution.sas;\n",
    "DATA work.HAVE;\n",
    "PUT 'After Compilation, Before Execution:' _ALL_;\n",
    " INPUT Name $ quiz1 quiz2 quiz3;\n",
    "   Ave_Score = ROUND(MEAN(OF quiz1-quiz3),.01);\n",
    " put 'At End of Execution:' _ALL_;\n",
    " DATALINES;\n",
    " Amy  78 84 82 \n",
    " Neil 90 85 86 \n",
    " John 82 79 89 \n",
    " Keya 78 86 78 \n",
    " ;\n",
    " run;\n"
   ]
  },
  {
   "cell_type": "code",
   "execution_count": null,
   "id": "649c14d0-01c6-4118-924e-a760c1ca12e1",
   "metadata": {},
   "outputs": [],
   "source": []
  }
 ],
 "metadata": {
  "kernelspec": {
   "display_name": "SAS",
   "language": "sas",
   "name": "sas"
  },
  "language_info": {
   "codemirror_mode": "sas",
   "file_extension": ".sas",
   "mimetype": "text/x-sas",
   "name": "sas"
  }
 },
 "nbformat": 4,
 "nbformat_minor": 5
}
