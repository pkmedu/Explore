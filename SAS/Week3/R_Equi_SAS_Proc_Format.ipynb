{
 "cells": [
  {
   "cell_type": "markdown",
   "id": "842fd3d8-8c00-465a-9b88-0f10284b37aa",
   "metadata": {
    "tags": []
   },
   "source": [
    "#### R_Equi_SAS_Proc_Format.R"
   ]
  },
  {
   "cell_type": "code",
   "execution_count": 1,
   "id": "4e6caaac-a906-437a-b8f9-9628e9736a9d",
   "metadata": {
    "tags": []
   },
   "outputs": [],
   "source": [
    "setwd(\"C:/Users/pmuhuri/sascourse/week3\")"
   ]
  },
  {
   "cell_type": "code",
   "execution_count": 4,
   "id": "c4b704ea-6bfb-446e-91d8-456385fbb506",
   "metadata": {
    "tags": []
   },
   "outputs": [
    {
     "data": {
      "text/html": [
       "'C:/Users/pmuhuri/sascourse/week3'"
      ],
      "text/latex": [
       "'C:/Users/pmuhuri/sascourse/week3'"
      ],
      "text/markdown": [
       "'C:/Users/pmuhuri/sascourse/week3'"
      ],
      "text/plain": [
       "[1] \"C:/Users/pmuhuri/sascourse/week3\""
      ]
     },
     "metadata": {},
     "output_type": "display_data"
    }
   ],
   "source": [
    "getwd()"
   ]
  },
  {
   "cell_type": "code",
   "execution_count": 1,
   "id": "23b89f2b-27a9-4880-a029-1a5c17e34cb1",
   "metadata": {
    "tags": []
   },
   "outputs": [
    {
     "name": "stdout",
     "output_type": "stream",
     "text": [
      "  gender\n",
      "1   Male\n",
      "2 Female\n"
     ]
    }
   ],
   "source": [
    "gender <- c(1,2) \n",
    "mydata <- data.frame(gender)\n",
    "mydata$gender <- factor(mydata$gender, \n",
    "                 levels = c(1,2), \n",
    "                 labels = c(\"Male\", \"Female\"))\n",
    "print(mydata)"
   ]
  },
  {
   "cell_type": "code",
   "execution_count": null,
   "id": "53dceffc-f9c1-4ceb-bd33-5c27849e525b",
   "metadata": {},
   "outputs": [],
   "source": []
  }
 ],
 "metadata": {
  "kernelspec": {
   "display_name": "R",
   "language": "R",
   "name": "ir"
  },
  "language_info": {
   "codemirror_mode": "r",
   "file_extension": ".r",
   "mimetype": "text/x-r-source",
   "name": "R",
   "pygments_lexer": "r",
   "version": "4.2.0"
  }
 },
 "nbformat": 4,
 "nbformat_minor": 5
}
