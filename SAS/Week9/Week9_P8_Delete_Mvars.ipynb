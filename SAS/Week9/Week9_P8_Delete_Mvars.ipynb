{
 "cells": [
  {
   "cell_type": "markdown",
   "metadata": {},
   "source": [
    "# Week 9 - Macro Basics (Part 8)\n",
    "\n",
    "###  Ways to delete user-defined macro variables using the\n",
    "\n",
    "* %SYMDEL statement in open code\n",
    "* %SYMDEL statement in a macro from\n",
    "    * Dictionary.Macros\n",
    "    * SASHELP.VMACRO (automatically generated view that contains a list all macro variables existing in the current session as well as those defined by the SAS System)\n",
    "    \n"
   ]
  },
  {
   "cell_type": "markdown",
   "metadata": {},
   "source": [
    "### Create a macro variable in OPEN CODE"
   ]
  },
  {
   "cell_type": "code",
   "execution_count": 4,
   "metadata": {
    "tags": []
   },
   "outputs": [
    {
     "name": "stdout",
     "output_type": "stream",
     "text": [
      "\n",
      "11                                                         The SAS System                              13:22 Thursday, March 6, 2025\n",
      "\n",
      "100        ods listing close;ods html5 (id=saspy_internal) file=_tomods1 options(bitmap_mode='inline') device=svg style=HTMLBlue;\n",
      "100      ! ods graphics on / outputfmt=png;\n",
      "\u001b[38;5;21mNOTE: Writing HTML5(SASPY_INTERNAL) Body file: _TOMODS1\u001b[0m\n",
      "101        \n",
      "102        %LET course = STAT6197;\n",
      "103        %put &=course;\n",
      "COURSE=STAT6197\n",
      "104        %put _user_;\n",
      "GLOBAL COURSE STAT6197\n",
      "GLOBAL SYS_SQL_IP_ALL -1\n",
      "GLOBAL SYS_SQL_IP_STMT \n",
      "105        \n",
      "106        \n",
      "107        ods html5 (id=saspy_internal) close;ods listing;\n",
      "108        \n",
      "\n",
      "12                                                         The SAS System                              13:22 Thursday, March 6, 2025\n",
      "\n",
      "109        \n"
     ]
    }
   ],
   "source": [
    "%LET course = STAT6197;\n",
    "%put &=course;\n",
    "%put _user_;"
   ]
  },
  {
   "cell_type": "markdown",
   "metadata": {},
   "source": [
    "### Delete the macro variable created above using %SYMDEL statement"
   ]
  },
  {
   "cell_type": "code",
   "execution_count": 6,
   "metadata": {
    "tags": []
   },
   "outputs": [
    {
     "name": "stdout",
     "output_type": "stream",
     "text": [
      "\n",
      "15                                                         The SAS System                              13:22 Thursday, March 6, 2025\n",
      "\n",
      "123        ods listing close;ods html5 (id=saspy_internal) file=_tomods1 options(bitmap_mode='inline') device=svg style=HTMLBlue;\n",
      "123      ! ods graphics on / outputfmt=png;\n",
      "\u001b[38;5;21mNOTE: Writing HTML5(SASPY_INTERNAL) Body file: _TOMODS1\u001b[0m\n",
      "124        \n",
      "125        %SYMDEL course /nowarn;\n",
      "126        %put _user_;\n",
      "GLOBAL SYS_SQL_IP_ALL -1\n",
      "GLOBAL SYS_SQL_IP_STMT \n",
      "127        \n",
      "128        \n",
      "129        ods html5 (id=saspy_internal) close;ods listing;\n",
      "130        \n",
      "\n",
      "16                                                         The SAS System                              13:22 Thursday, March 6, 2025\n",
      "\n",
      "131        \n"
     ]
    }
   ],
   "source": [
    "%SYMDEL course /nowarn;\n",
    "%put _user_;"
   ]
  },
  {
   "cell_type": "markdown",
   "metadata": {},
   "source": [
    "### Create a vertical list of macro variables and display them"
   ]
  },
  {
   "cell_type": "code",
   "execution_count": null,
   "metadata": {},
   "outputs": [],
   "source": [
    "options nodate nonumber nonotes nosource;\n",
    "ods html close;\n",
    "%let Put_title = List of Values into a Series of Macro Variables;\n",
    "proc sql noprint;\n",
    " select distinct make\n",
    "        INTO :makes1-\n",
    " FROM SASHELP.CARS ;\n",
    " %put Number of Rows: &sqlobs;\n",
    "quit;\n",
    "%macro runit;\n",
    " %put &Put_title;\n",
    " %Do i=1 %TO &Sqlobs;\n",
    "    %put &&makes&i;\n",
    "  %end;\n",
    "%mend runit;\n",
    "%runit\n"
   ]
  },
  {
   "cell_type": "markdown",
   "metadata": {},
   "source": [
    "[Deleting global macro variables by Jim Simon](https://blogs.sas.com/content/sastraining/2018/05/07/deleting-global-macro-variables/)"
   ]
  },
  {
   "cell_type": "code",
   "execution_count": 3,
   "metadata": {
    "tags": []
   },
   "outputs": [
    {
     "name": "stdout",
     "output_type": "stream",
     "text": [
      "\n",
      "9                                                          The SAS System                              13:22 Thursday, March 6, 2025\n",
      "\n",
      "72         ods listing close;ods html5 (id=saspy_internal) file=_tomods1 options(bitmap_mode='inline') device=svg style=HTMLBlue;\n",
      "72       ! ods graphics on / outputfmt=png;\n",
      "\u001b[38;5;21mNOTE: Writing HTML5(SASPY_INTERNAL) Body file: _TOMODS1\u001b[0m\n",
      "73         \n",
      "74         * Code obtanied from the above source;\n",
      "75         ods html close;\n",
      "76         %macro deleteALL;\n",
      "77          options nonotes;\n",
      "78          %local vars;\n",
      "79          proc sql noprint;\n",
      "80                 select name into: vars separated by ' '\n",
      "81                    from dictionary.macros /* DICTIONARY.MACROS is a metadata table\n",
      "82                                            with one row per macro variable.*/\n",
      "83            where scope='GLOBAL'\n",
      "84            and not name contains 'SYS_SQL_IP_';\n",
      "85            quit;\n",
      "86             %symdel &vars;  /* The %SYMDEL statement deletes all user-defined global\n",
      "87                             macro variables.*/\n",
      "88             options notes;\n",
      "89              %put NOTE: Macro variables deleted.;\n",
      "90          %mend deleteALL;\n",
      "91          %deleteALL\n",
      "\u001b[38;5;21mNOTE: Macro variables deleted.\u001b[0m\n",
      "92          %put _user_;\n",
      "GLOBAL SYS_SQL_IP_ALL -1\n",
      "GLOBAL SYS_SQL_IP_STMT \n",
      "93         \n",
      "94         \n",
      "95         ods html5 (id=saspy_internal) close;ods listing;\n",
      "96         \n",
      "\n",
      "10                                                         The SAS System                              13:22 Thursday, March 6, 2025\n",
      "\n",
      "97         \n"
     ]
    }
   ],
   "source": [
    "* Code obtanied from the above source;\n",
    "ods html close;\n",
    "%macro deleteALL;\n",
    " options nonotes;\n",
    " %local vars;\n",
    " proc sql noprint;\n",
    "        select name into: vars separated by ' '\n",
    "           from dictionary.macros /* DICTIONARY.MACROS is a metadata table \n",
    "                                   with one row per macro variable.*/\n",
    "   where scope='GLOBAL' \n",
    "   and not name contains 'SYS_SQL_IP_';\n",
    "   quit;\n",
    "    %symdel &vars;  /* The %SYMDEL statement deletes all user-defined global \n",
    "                    macro variables.*/\n",
    "    options notes;\n",
    "     %put NOTE: Macro variables deleted.;\n",
    " %mend deleteALL;\n",
    " %deleteALL\n",
    " %put _user_;"
   ]
  },
  {
   "cell_type": "markdown",
   "metadata": {},
   "source": [
    "### Recreate a vertical list of macro variables and display them"
   ]
  },
  {
   "cell_type": "code",
   "execution_count": null,
   "metadata": {},
   "outputs": [],
   "source": [
    "options nodate nonumber nonotes nosource;\n",
    "ods html close;\n",
    "%let Put_title = List of Values into a Series of Macro Variables;\n",
    "proc sql noprint;\n",
    " select distinct make\n",
    "        INTO :makes1-\n",
    " FROM SASHELP.CARS ;\n",
    " %put Number of Rows: &sqlobs;\n",
    "quit;\n"
   ]
  },
  {
   "cell_type": "markdown",
   "metadata": {},
   "source": [
    "### DESCRIBE TABLE statement with PROC SQL\n",
    "\n",
    "Since you have recreated the macro variables, you can run the following code to list the names of the columns stored in the DICTIONARY.MACROS entry. "
   ]
  },
  {
   "cell_type": "code",
   "execution_count": null,
   "metadata": {},
   "outputs": [],
   "source": [
    "options nodate nonumber nonotes nosource;\n",
    "ods html close;\n",
    "proc sql;\n",
    "  describe table dictionary.macros;\n",
    "quit;"
   ]
  },
  {
   "cell_type": "markdown",
   "metadata": {},
   "source": [
    "### How to print the data values of the MACROS entry\n",
    "\n",
    "* Make a SAS data set containing the extract of the Macro entry from the current session using PROC SQL CREATE table\n",
    "\n",
    "* List the SAS data set using PROC PRINT\n"
   ]
  },
  {
   "cell_type": "code",
   "execution_count": null,
   "metadata": {},
   "outputs": [],
   "source": [
    "options nodate nonumber nonotes nosource;\n",
    "ods html close;\n",
    "\n",
    "proc sql;\n",
    "create table work.MyMacros as\n",
    "select * from dictionary.macros;\n",
    "where name ='GLOBAL';\n",
    "quit;\n",
    "proc print data=work.MyMacros;\n",
    "Title 'Work.Mymacros';\n",
    "run;"
   ]
  },
  {
   "cell_type": "markdown",
   "metadata": {},
   "source": [
    "### SASHELP.VMACRO\n",
    "\n",
    "* Use SASHELP.VMACRO to keep track of all macro variables you have created\n",
    "\n",
    "[Surviving the SAS® Macro Jungle by Using Your Own Programming Toolkit by\n",
    "Kevin Russell](http://support.sas.com/resources/papers/387699_macro-programming-tools.pdf)\n"
   ]
  },
  {
   "cell_type": "code",
   "execution_count": null,
   "metadata": {},
   "outputs": [],
   "source": [
    "proc print data=sashelp.vmacro(where=(name=:'MAKE'));\n",
    "run;"
   ]
  },
  {
   "cell_type": "markdown",
   "metadata": {},
   "source": [
    "### SASHELP.VMACRO and %SYMDEL Statement\n",
    "Kevin Russell (2016) uses the following code to delete all user-defined global macro variables."
   ]
  },
  {
   "cell_type": "code",
   "execution_count": null,
   "metadata": {},
   "outputs": [],
   "source": [
    "options nodate nonumber nonotes nosource;\n",
    "ods html close;\n",
    "%macro delvars;\n",
    "data vars;\n",
    " set sashelp.vmacro;\n",
    " run;\n",
    "data _null_;\n",
    " set vars;\n",
    " temp=lag(name);\n",
    " if scope='GLOBAL' and substr(name,1,3) ne 'SYS' and temp ne name then\n",
    " rc=dosubl('%symdel '||trim(left(name))||';');\n",
    " run;\n",
    "%mend;\n",
    "%delvars\n",
    "%put _user_;"
   ]
  },
  {
   "cell_type": "markdown",
   "metadata": {},
   "source": [
    "[A Hands-on Introduction to SAS® Metadata DICTIONARY Tables\n",
    "and SASHELP Views](https://www.mwsug.org/proceedings/2018/HW/MWSUG-2018-HW-9.pdf)"
   ]
  },
  {
   "cell_type": "code",
   "execution_count": null,
   "metadata": {
    "tags": []
   },
   "outputs": [],
   "source": [
    "*https://blogs.sas.com/content/sastraining/2018/05/07/deleting-global-macro-variables/;\n",
    "%macro deleteALL;\n",
    "   options nonotes;\n",
    "   %local vars;\n",
    "   proc sql noprint;\n",
    "           select name into: vars separated by ' '\n",
    "           from dictionary.macros\n",
    "                 where scope='GLOBAL' \n",
    "     and not name contains 'SYS_SQL_IP_';\n",
    "   quit;\n",
    "   %symdel &vars;\n",
    "   options notes;\n",
    "   %put NOTE: Macro variables deleted.;\n",
    "%mend deleteALL;\n",
    "%deleteAll"
   ]
  },
  {
   "cell_type": "markdown",
   "metadata": {},
   "source": [
    "The macro below deletes all global macro variables except those containing 'SYS_SQL_IP_'. SAS system-defined macro variables and those dynamically created by SQL queries should be preserved."
   ]
  },
  {
   "cell_type": "code",
   "execution_count": null,
   "metadata": {},
   "outputs": [],
   "source": [
    "%macro deleteALL; /* Defines the macro deleteALL.*/\n",
    "    options nonotes; /* Suppresses log notes to keep the output clean. */\n",
    "    %local varCount i varName; /* Declares macro variables used within the macro */\n",
    "    \n",
    "    /* Count the number of global macro variables */\n",
    "    proc sql noprint;\n",
    "        select count(*) into :varCount\n",
    "                  /* The macro variable varCount → Stores the number of \n",
    "                     global macro variables to delete.*/\n",
    "        from dictionary.macros\n",
    "        where scope = 'GLOBAL' and not name contains 'SYS_SQL_IP_';\n",
    "    quit;\n",
    "    \n",
    "    /* Loop through and delete each macro variable individually */\n",
    "    %if &varCount > 0 %then %do;Filters only global macro variables\n",
    "        proc sql noprint; /* Runs an SQL query without displaying output in the log */\n",
    "            select name into :varName1-:varName&varCount\n",
    "              from dictionary.macros\n",
    "               /* Stores macro variable names retrieved from dictionary.macros.*/\n",
    "            where scope = 'GLOBAL' and not name contains 'SYS_SQL_IP_';\n",
    "             /* Filters only global macro variables, excluding system-generated \n",
    "             SQL macro variables.*/\n",
    "        quit;\n",
    "\n",
    "        %do i = 1 %to &varCount;\n",
    "            %symdel &&varName&i;                      \n",
    "        %end;\n",
    "        \n",
    "        /* Iterates from 1 to varCount.\n",
    "        &&varName&i → Resolves dynamically to varName1, varName2, etc.\n",
    "        %symdel &&varName&i; → Deletes each macro variable individually.\n",
    "        */\n",
    "    %end;\n",
    "\n",
    "    options notes;\n",
    "    %put NOTE: Macro variables deleted.;\n",
    "%mend deleteALL;\n",
    "\n",
    "%deleteALL;\n"
   ]
  },
  {
   "cell_type": "markdown",
   "metadata": {},
   "source": [
    "#### How the above program works\n",
    "\n",
    "* Finds all global macro variables (except those containing 'SYS_SQL_IP_').\n",
    "* Counts how many need to be deleted.\n",
    "* Retrieves their names into multiple macro variables.\n",
    "* Loops through and deletes each one using %symdel.\n",
    "* Prints a message confirming deletion.\n"
   ]
  },
  {
   "cell_type": "code",
   "execution_count": null,
   "metadata": {},
   "outputs": [],
   "source": []
  }
 ],
 "metadata": {
  "kernelspec": {
   "display_name": "SAS",
   "language": "sas",
   "name": "sas"
  },
  "language_info": {
   "codemirror_mode": "sas",
   "file_extension": ".sas",
   "mimetype": "text/x-sas",
   "name": "sas"
  }
 },
 "nbformat": 4,
 "nbformat_minor": 4
}
