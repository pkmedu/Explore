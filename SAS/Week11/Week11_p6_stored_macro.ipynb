{
 "cells": [
  {
   "cell_type": "markdown",
   "metadata": {},
   "source": [
    "### Week 10\n",
    "[Always save your code when creating a stored compiled macro](https://blogs.sas.com/content/sgf/2017/08/21/always-save-your-code-when-creating-a-stored-compiled-macro/)\n",
    "\n"
   ]
  },
  {
   "cell_type": "markdown",
   "metadata": {},
   "source": [
    "##### Ways to Store/Access Macros\n",
    "* %INCLUDE of source entries non-compiled (macro definitions)\n",
    "* Stored Compiled macros (Compiled macro definitions)\n",
    "* AUTOCALL libraries that include macros\n",
    "\n",
    "\n"
   ]
  },
  {
   "cell_type": "markdown",
   "metadata": {},
   "source": [
    "##### %INCLUDE Statement\n",
    "* retrieves macro definitions from an external file and places it on the input stack\n",
    "* is a global SAS statement, not a macro language statement\n"
   ]
  },
  {
   "cell_type": "markdown",
   "metadata": {},
   "source": [
    "##### Storing Macros and Retriveining Them for Later Use\n",
    "\n",
    "Storing Macros Using the Stored Compiled Macro Facility\n",
    "Macros can be compiled and then stored temporarily or permanently for later use. When you compile a macro, it is usually stored in the temporary WORK.SASMACR catalog.  However, you can store a macro in compiled form in a SAS macro catalog also named SASMACR, but in a permanent library.\n"
   ]
  }
 ],
 "metadata": {
  "kernelspec": {
   "display_name": "SAS",
   "language": "sas",
   "name": "sas"
  },
  "language_info": {
   "codemirror_mode": "sas",
   "file_extension": ".sas",
   "mimetype": "text/x-sas",
   "name": "sas"
  }
 },
 "nbformat": 4,
 "nbformat_minor": 4
}
