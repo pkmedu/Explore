{
 "cells": [
  {
   "cell_type": "markdown",
   "metadata": {},
   "source": [
    "### Week 10\n",
    "##### Macro Debugging Options \n",
    "SYMBOLGEN, MPRINT, MLOGIC, MFILE\n",
    "\n",
    "* SYMBOLGEN: When this option is specified in the OPTIONS statement, the macro variable values are written to the SAS Log.  \n",
    "\n",
    "* MLOGIC: When this option is specified in the OPTIONS statement, the following information is displayed in the SAS Log.  See the SAS Log below. \n",
    "\n",
    "    * Begining execution\n",
    "    * Results of various operations\n",
    "    * Ending execution\n",
    " \n",
    " \n",
    "\n",
    "* MPRINT: After macro execution, the SAS code is generated and sent to the SAS compiler. By default, SAS does not write to the SAS Log SAS statemets constrcted by the macro processor. When the MPRINT option is specified, the generated code is dispalyed in the SAS Log. See the SAS Log below.\n",
    "\n",
    "* MPRINT and MFILE: When the MFILE option, in addition to the MPRINT option, is specified in the OPTIONS statement, the addition of the MPRINT as fileref to the the FILENAME statment enables the SAS code generated in the file specified in the FILENAME statement. (Week 9 Handouts, see pages 33-34 for code and output)\n"
   ]
  },
  {
   "cell_type": "code",
   "execution_count": 15,
   "metadata": {},
   "outputs": [
    {
     "data": {
      "text/html": [
       "<!DOCTYPE html PUBLIC \"-//W3C//DTD HTML 4.01//EN\"\n",
       "   \"http://www.w3.org/TR/html4/strict.dtd\">\n",
       "\n",
       "<html>\n",
       "<head>\n",
       "  <title></title>\n",
       "  <meta http-equiv=\"content-type\" content=\"text/html; charset=None\">\n",
       "  <style type=\"text/css\">\n",
       "td.linenos { background-color: #f0f0f0; padding-right: 10px; }\n",
       "span.lineno { background-color: #f0f0f0; padding: 0 5px 0 5px; }\n",
       "pre { line-height: 125%; }\n",
       "body .hll { background-color: #ffffcc }\n",
       "body  { background: #ffffff; }\n",
       "body .c { color: #0000FF } /* Comment */\n",
       "body .k { color: #ff0000; font-weight: bold } /* Keyword */\n",
       "body .n { color: #008000 } /* Name */\n",
       "body .ch { color: #0000FF } /* Comment.Hashbang */\n",
       "body .cm { color: #0000FF } /* Comment.Multiline */\n",
       "body .cp { color: #0000FF } /* Comment.Preproc */\n",
       "body .cpf { color: #0000FF } /* Comment.PreprocFile */\n",
       "body .c1 { color: #0000FF } /* Comment.Single */\n",
       "body .cs { color: #0000FF } /* Comment.Special */\n",
       "body .kc { color: #ff0000; font-weight: bold } /* Keyword.Constant */\n",
       "body .kd { color: #ff0000; font-weight: bold } /* Keyword.Declaration */\n",
       "body .kn { color: #ff0000; font-weight: bold } /* Keyword.Namespace */\n",
       "body .kp { color: #ff0000; font-weight: bold } /* Keyword.Pseudo */\n",
       "body .kr { color: #ff0000; font-weight: bold } /* Keyword.Reserved */\n",
       "body .kt { color: #ff0000; font-weight: bold } /* Keyword.Type */\n",
       "body .s { color: #111111 } /* Literal.String */\n",
       "body .na { color: #008000 } /* Name.Attribute */\n",
       "body .nb { color: #008000 } /* Name.Builtin */\n",
       "body .nc { color: #008000 } /* Name.Class */\n",
       "body .no { color: #008000 } /* Name.Constant */\n",
       "body .nd { color: #008000 } /* Name.Decorator */\n",
       "body .ni { color: #008000 } /* Name.Entity */\n",
       "body .ne { color: #008000 } /* Name.Exception */\n",
       "body .nf { color: #008000 } /* Name.Function */\n",
       "body .nl { color: #008000 } /* Name.Label */\n",
       "body .nn { color: #008000 } /* Name.Namespace */\n",
       "body .nx { color: #008000 } /* Name.Other */\n",
       "body .py { color: #008000 } /* Name.Property */\n",
       "body .nt { color: #008000 } /* Name.Tag */\n",
       "body .nv { color: #008000 } /* Name.Variable */\n",
       "body .sa { color: #111111 } /* Literal.String.Affix */\n",
       "body .sb { color: #111111 } /* Literal.String.Backtick */\n",
       "body .sc { color: #111111 } /* Literal.String.Char */\n",
       "body .dl { color: #111111 } /* Literal.String.Delimiter */\n",
       "body .sd { color: #111111 } /* Literal.String.Doc */\n",
       "body .s2 { color: #111111 } /* Literal.String.Double */\n",
       "body .se { color: #111111 } /* Literal.String.Escape */\n",
       "body .sh { color: #111111 } /* Literal.String.Heredoc */\n",
       "body .si { color: #111111 } /* Literal.String.Interpol */\n",
       "body .sx { color: #111111 } /* Literal.String.Other */\n",
       "body .sr { color: #111111 } /* Literal.String.Regex */\n",
       "body .s1 { color: #111111 } /* Literal.String.Single */\n",
       "body .ss { color: #111111 } /* Literal.String.Symbol */\n",
       "body .bp { color: #008000 } /* Name.Builtin.Pseudo */\n",
       "body .fm { color: #008000 } /* Name.Function.Magic */\n",
       "body .vc { color: #008000 } /* Name.Variable.Class */\n",
       "body .vg { color: #008000 } /* Name.Variable.Global */\n",
       "body .vi { color: #008000 } /* Name.Variable.Instance */\n",
       "body .vm { color: #008000 } /* Name.Variable.Magic */\n",
       "\n",
       "  </style>\n",
       "</head>\n",
       "<body>\n",
       "<h2></h2>\n",
       "\n",
       "<div class=\"highlight\"><pre><span></span>\f",
       "                                                           <span class=\"err\">The</span> <span class=\"err\">SAS</span> <span class=\"err\">System</span><br><br><span class=\"cm\">NOTE: Writing HTML5(SASPY_INTERNAL) Body file: _TOMODS1</span><br><span class=\"err\">MLOGIC(RUN_FREQ):</span>  <span class=\"err\">Beginning</span> <span class=\"err\">execution.</span><br><span class=\"err\">MLOGIC(RUN_FREQ):</span>  <span class=\"err\">Parameter</span> <span class=\"err\">ROW_VAR</span> <span class=\"err\">has</span> <span class=\"err\">value</span> <br><br><span class=\"cm\">NOTE: The SAS System stopped processing this step because of errors.</span><br><span class=\"cm\">NOTE: PROCEDURE FREQ used (Total process time):</span><br><span class=\"cm\">      real time           55:18.57</span><br><span class=\"cm\">      cpu time            0.09 seconds</span><br><span class=\"cm\">      </span><br><br><br><span class=\"err\">MPRINT(RUN_FREQ):</span>   <span class=\"err\">proc</span> <span class=\"err\">freq</span> <span class=\"err\">data=sashelp.heart</span> <span class=\"err\">noprint;</span><br><span class=\"err\">SYMBOLGEN:</span>  <span class=\"err\">Macro</span> <span class=\"err\">variable</span> <span class=\"err\">ROW_VAR</span> <span class=\"err\">resolves</span> <span class=\"err\">to</span> <br><span class=\"err\">MLOGIC(RUN_FREQ):</span>  <span class=\"err\">%IF</span> <span class=\"err\">condition</span> <span class=\"err\">&amp;row_var</span> <span class=\"err\">ne</span> <span class=\"err\">is</span> <span class=\"err\">FALSE</span><br><span class=\"err\">MPRINT(RUN_FREQ):</span>   <span class=\"err\">tables</span> <span class=\"err\">smoking_status;</span><br><span class=\"err\">MPRINT(RUN_FREQ):</span>   <span class=\"err\">run;</span><br><br><span class=\"cm\">NOTE: Processing will terminate because there are no valid requests for displayed output or output data sets.</span><br><span class=\"cm\">NOTE: PROCEDURE FREQ used (Total process time):</span><br><span class=\"cm\">      real time           0.00 seconds</span><br><span class=\"cm\">      cpu time            0.00 seconds</span><br><span class=\"cm\">      </span><br><br><span class=\"err\">MLOGIC(RUN_FREQ):</span>  <span class=\"err\">Ending</span> <span class=\"err\">execution.</span><br><span class=\"err\">MLOGIC(RUN_FREQ):</span>  <span class=\"err\">Beginning</span> <span class=\"err\">execution.</span><br><span class=\"err\">MLOGIC(RUN_FREQ):</span>  <span class=\"err\">Parameter</span> <span class=\"err\">ROW_VAR</span> <span class=\"err\">has</span> <span class=\"err\">value</span> <span class=\"err\">Weight_Status</span><br><span class=\"err\">MPRINT(RUN_FREQ):</span>   <span class=\"err\">proc</span> <span class=\"err\">freq</span> <span class=\"err\">data=sashelp.heart</span> <span class=\"err\">noprint;</span><br><span class=\"err\">SYMBOLGEN:</span>  <span class=\"err\">Macro</span> <span class=\"err\">variable</span> <span class=\"err\">ROW_VAR</span> <span class=\"err\">resolves</span> <span class=\"err\">to</span> <span class=\"err\">Weight_Status</span><br><span class=\"err\">MLOGIC(RUN_FREQ):</span>  <span class=\"err\">%IF</span> <span class=\"err\">condition</span> <span class=\"err\">&amp;row_var</span> <span class=\"err\">ne</span> <span class=\"err\">is</span> <span class=\"err\">TRUE</span><br><span class=\"err\">SYMBOLGEN:</span>  <span class=\"err\">Macro</span> <span class=\"err\">variable</span> <span class=\"err\">ROW_VAR</span> <span class=\"err\">resolves</span> <span class=\"err\">to</span> <span class=\"err\">Weight_Status</span><br><span class=\"err\">MPRINT(RUN_FREQ):</span>   <span class=\"err\">tables</span> <span class=\"err\">Weight_Status</span> <span class=\"err\">*</span> <span class=\"err\">smoking_status;</span><br><span class=\"err\">MPRINT(RUN_FREQ):</span>   <span class=\"err\">run;</span><br><br><span class=\"cm\">NOTE: Processing will terminate because there are no valid requests for displayed output or output data sets.</span><br><span class=\"cm\">NOTE: PROCEDURE FREQ used (Total process time):</span><br><span class=\"cm\">      real time           0.00 seconds</span><br><span class=\"cm\">      cpu time            0.00 seconds</span><br><span class=\"cm\">      </span><br><br><span class=\"err\">MLOGIC(RUN_FREQ):</span>  <span class=\"err\">Ending</span> <span class=\"err\">execution.</span><br><span class=\"err\">E3969440A681A2408885998500000018</span><br></pre></div>\n",
       "</body>\n",
       "</html>\n"
      ],
      "text/plain": [
       "<IPython.core.display.HTML object>"
      ]
     },
     "execution_count": 15,
     "metadata": {},
     "output_type": "execute_result"
    }
   ],
   "source": [
    "options nodate nonumber nosource;\n",
    "ods html close;\n",
    "%macro run_freq(row_var);\n",
    "   proc freq data=sashelp.heart noprint;\n",
    "     tables %if &row_var ne  %then &row_var *;\n",
    "      smoking_status;\n",
    "   run;\n",
    "%mend run_freq;\n",
    "options SYMBOLGEN MPRINT MLOGIC;\n",
    "%run_freq()\n",
    "%run_freq(Weight_Status)"
   ]
  }
 ],
 "metadata": {
  "kernelspec": {
   "display_name": "SAS",
   "language": "sas",
   "name": "sas"
  },
  "language_info": {
   "codemirror_mode": "sas",
   "file_extension": ".sas",
   "mimetype": "text/x-sas",
   "name": "sas"
  }
 },
 "nbformat": 4,
 "nbformat_minor": 4
}
