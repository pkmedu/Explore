{
 "cells": [
  {
   "cell_type": "markdown",
   "metadata": {},
   "source": [
    "### SASPy Interface with SAS/Python: Diagnostics (5/1/2025 5:37 PM)"
   ]
  },
  {
   "cell_type": "markdown",
   "metadata": {},
   "source": [
    "#### Running SAS in Python Scripts Using SASPy requires the following installations:\n",
    "([See \"How to connect SASPy with a Local Installation of SAS\" for details](https://github.com/SASGateway/SASCourse/blob/master/SASPy_LocalSAS_Connection/HowToSASPy_LocalSAS.md))"
   ]
  },
  {
   "cell_type": "markdown",
   "metadata": {},
   "source": [
    "* SASPy \n",
    "* sas_kernel\n",
    "* Anaconda (including the web-based IDE called Jupyter Lab and Python)\n",
    "* sspiauth.dll to be added to your System PATH Environment Variable \n",
    "  and to be checked for your SAS install\n",
    "* sspiauth.dll is probably here: C:\\Program Files\\SASHome\\SASFoundation\\9.4\\core\\sasext\n",
    "* Python script (sascfg_personal.py - see below) - a configuration file, defining custom connection settings for the \n",
    "  SAS/SASPy interface "
   ]
  },
  {
   "cell_type": "markdown",
   "metadata": {},
   "source": [
    "#### List all Jupyter kernels installed on your system"
   ]
  },
  {
   "cell_type": "code",
   "execution_count": 2,
   "metadata": {
    "tags": []
   },
   "outputs": [
    {
     "name": "stdout",
     "output_type": "stream",
     "text": [
      "Available kernels:\n",
      "  ir         C:\\Users\\pmuhuri\\AppData\\Roaming\\jupyter\\kernels\\ir\n",
      "  sas        C:\\Users\\pmuhuri\\AppData\\Roaming\\jupyter\\kernels\\sas\n",
      "  python3    C:\\Users\\pmuhuri\\AppData\\Local\\anaconda3\\share\\jupyter\\kernels\\python3\n"
     ]
    }
   ],
   "source": [
    "!jupyter kernelspec list"
   ]
  },
  {
   "cell_type": "markdown",
   "metadata": {},
   "source": [
    "#### Display information about the saspy package, if installed in your Python environment"
   ]
  },
  {
   "cell_type": "code",
   "execution_count": 2,
   "metadata": {},
   "outputs": [
    {
     "name": "stdout",
     "output_type": "stream",
     "text": [
      "Name: saspy\n",
      "Version: 5.103.0\n",
      "Summary: A Python interface to SAS\n",
      "Home-page: https://github.com/sassoftware/saspy\n",
      "Author: Tom Weber\n",
      "Author-email: Tom.Weber@sas.com\n",
      "License: \n",
      "Location: C:\\Users\\pmuhuri\\AppData\\Local\\anaconda3\\Lib\\site-packages\n",
      "Requires: \n",
      "Required-by: SAS_kernel\n"
     ]
    }
   ],
   "source": [
    "!pip show saspy"
   ]
  },
  {
   "cell_type": "markdown",
   "metadata": {},
   "source": [
    "#### Display information about the sas_kernel package, if installed in your Python environment"
   ]
  },
  {
   "cell_type": "code",
   "execution_count": 4,
   "metadata": {},
   "outputs": [
    {
     "name": "stdout",
     "output_type": "stream",
     "text": [
      "Name: SAS_kernel\n",
      "Version: 2.4.13\n",
      "Summary: A SAS kernel for Jupyter\n",
      "Home-page: https://github.com/sassoftware/sas_kernel\n",
      "Author: Jared Dean\n",
      "Author-email: jared.dean@sas.com\n",
      "License: Apache Software License\n",
      "Location: C:\\Users\\pmuhuri\\AppData\\Local\\anaconda3\\Lib\\site-packages\n",
      "Requires: ipython, jupyter-client, metakernel, saspy\n",
      "Required-by: \n"
     ]
    }
   ],
   "source": [
    "!pip show sas_kernel"
   ]
  },
  {
   "cell_type": "markdown",
   "metadata": {},
   "source": [
    "#### Get the Python version"
   ]
  },
  {
   "cell_type": "code",
   "execution_count": 36,
   "metadata": {
    "tags": []
   },
   "outputs": [
    {
     "name": "stdout",
     "output_type": "stream",
     "text": [
      "Python 3.12.7\n"
     ]
    }
   ],
   "source": [
    "!python --version"
   ]
  },
  {
   "cell_type": "markdown",
   "metadata": {},
   "source": [
    "#### Display all installed packages that include “anaconda” in their names (e.g., packages that are part of the Anaconda distribution)"
   ]
  },
  {
   "cell_type": "code",
   "execution_count": 53,
   "metadata": {
    "tags": []
   },
   "outputs": [
    {
     "name": "stdout",
     "output_type": "stream",
     "text": [
      "# packages in environment at C:\\Users\\pmuhuri\\AppData\\Local\\anaconda3:\n",
      "#\n",
      "# Name                    Version                   Build  Channel\n",
      "_anaconda_depends         2024.10             py312_mkl_0  \n",
      "anaconda-anon-usage       0.4.4           py312hfc23b7f_100  \n",
      "anaconda-catalogs         0.2.0           py312haa95532_1  \n",
      "anaconda-cli-base         0.5.2           py312haa95532_0  \n",
      "anaconda-client           1.13.0          py312haa95532_1  \n",
      "anaconda-cloud-auth       0.7.2           py312haa95532_0  \n",
      "anaconda-navigator        2.6.3           py312haa95532_0  \n",
      "anaconda-project          0.11.1          py312haa95532_0  \n",
      "anaconda-toolbox          4.1.0           py312haa95532_0  \n",
      "anaconda_powershell_prompt 1.1.0                haa95532_0  \n",
      "anaconda_prompt           1.1.0                haa95532_0  \n"
     ]
    }
   ],
   "source": [
    "!conda list anaconda"
   ]
  },
  {
   "cell_type": "markdown",
   "metadata": {},
   "source": [
    "#### Get the conda current environments details"
   ]
  },
  {
   "cell_type": "code",
   "execution_count": 55,
   "metadata": {
    "tags": []
   },
   "outputs": [
    {
     "name": "stdout",
     "output_type": "stream",
     "text": [
      "\n",
      "     active environment : base\n",
      "    active env location : C:\\Users\\pmuhuri\\AppData\\Local\\anaconda3\n",
      "            shell level : 1\n",
      "       user config file : C:\\Users\\pmuhuri\\.condarc\n",
      " populated config files : C:\\Users\\pmuhuri\\AppData\\Local\\anaconda3\\.condarc\n",
      "                          C:\\Users\\pmuhuri\\.condarc\n",
      "          conda version : 24.11.3\n",
      "    conda-build version : 24.9.0\n",
      "         python version : 3.12.7.final.0\n",
      "                 solver : libmamba (default)\n",
      "       virtual packages : __archspec=1=skylake\n",
      "                          __conda=24.11.3=0\n",
      "                          __win=0=0\n",
      "       base environment : C:\\Users\\pmuhuri\\AppData\\Local\\anaconda3  (writable)\n",
      "      conda av data dir : C:\\Users\\pmuhuri\\AppData\\Local\\anaconda3\\etc\\conda\n",
      "  conda av metadata url : None\n",
      "           channel URLs : https://conda.anaconda.org/r/win-64\n",
      "                          https://conda.anaconda.org/r/noarch\n",
      "                          https://repo.anaconda.com/pkgs/main/win-64\n",
      "                          https://repo.anaconda.com/pkgs/main/noarch\n",
      "                          https://repo.anaconda.com/pkgs/r/win-64\n",
      "                          https://repo.anaconda.com/pkgs/r/noarch\n",
      "                          https://repo.anaconda.com/pkgs/msys2/win-64\n",
      "                          https://repo.anaconda.com/pkgs/msys2/noarch\n",
      "          package cache : C:\\Users\\pmuhuri\\AppData\\Local\\anaconda3\\pkgs\n",
      "                          C:\\Users\\pmuhuri\\.conda\\pkgs\n",
      "                          C:\\Users\\pmuhuri\\AppData\\Local\\conda\\conda\\pkgs\n",
      "       envs directories : C:\\Users\\pmuhuri\\AppData\\Local\\anaconda3\\envs\n",
      "                          C:\\Users\\pmuhuri\\.conda\\envs\n",
      "                          C:\\Users\\pmuhuri\\AppData\\Local\\conda\\conda\\envs\n",
      "               platform : win-64\n",
      "             user-agent : conda/24.11.3 requests/2.32.3 CPython/3.12.7 Windows/10 Windows/10.0.19045 solver/libmamba conda-libmamba-solver/24.9.0 libmambapy/1.5.8 aau/0.4.4 c/Iox8l-A28zZJkLLAlUgu7w s/_mmfn9wBemOs7IpmHPEdLA e/RUC1L6NqWKuC1RBzyuFZow\n",
      "          administrator : False\n",
      "             netrc file : None\n",
      "           offline mode : False\n",
      "\n"
     ]
    }
   ],
   "source": [
    "!conda info"
   ]
  },
  {
   "cell_type": "markdown",
   "metadata": {},
   "source": [
    "#### List all available conda environments"
   ]
  },
  {
   "cell_type": "code",
   "execution_count": 57,
   "metadata": {
    "tags": []
   },
   "outputs": [
    {
     "name": "stdout",
     "output_type": "stream",
     "text": [
      "\n",
      "# conda environments:\n",
      "#\n",
      "                       C:\\Users\\pmuhuri\\AppData\\Local\\R-MINI~1\n",
      "                       C:\\Users\\pmuhuri\\AppData\\Local\\R-MINI~1\\envs\\r-reticulate\n",
      "base                 * C:\\Users\\pmuhuri\\AppData\\Local\\anaconda3\n",
      "                       C:\\Users\\pmuhuri\\AppData\\Local\\r-miniconda\\envs\\r-reticulate\n",
      "\n"
     ]
    }
   ],
   "source": [
    "!conda info --envs"
   ]
  },
  {
   "cell_type": "markdown",
   "metadata": {},
   "source": [
    "#### Get the Jupyter Lab version and config directories"
   ]
  },
  {
   "cell_type": "code",
   "execution_count": 38,
   "metadata": {},
   "outputs": [
    {
     "name": "stdout",
     "output_type": "stream",
     "text": [
      "4.2.5\n"
     ]
    }
   ],
   "source": [
    "!jupyter lab --version"
   ]
  },
  {
   "cell_type": "code",
   "execution_count": 50,
   "metadata": {
    "tags": []
   },
   "outputs": [
    {
     "name": "stdout",
     "output_type": "stream",
     "text": [
      "config:\n",
      "    C:\\Users\\pmuhuri\\.jupyter\n",
      "    C:\\Users\\pmuhuri\\AppData\\Roaming\\Python\\etc\\jupyter\n",
      "    C:\\Users\\pmuhuri\\AppData\\Local\\anaconda3\\etc\\jupyter\n",
      "    C:\\ProgramData\\jupyter\n",
      "data:\n",
      "    C:\\Users\\pmuhuri\\AppData\\Roaming\\jupyter\n",
      "    C:\\Users\\pmuhuri\\AppData\\Roaming\\Python\\share\\jupyter\n",
      "    C:\\Users\\pmuhuri\\AppData\\Local\\anaconda3\\share\\jupyter\n",
      "    C:\\ProgramData\\jupyter\n",
      "runtime:\n",
      "    C:\\Users\\pmuhuri\\AppData\\Roaming\\jupyter\\runtime\n"
     ]
    }
   ],
   "source": [
    "!jupyter --paths"
   ]
  },
  {
   "cell_type": "code",
   "execution_count": 54,
   "metadata": {},
   "outputs": [
    {
     "name": "stdout",
     "output_type": "stream",
     "text": [
      "ir\n",
      "sas\n"
     ]
    }
   ],
   "source": [
    "# Import the os module to work with the operating system\n",
    "import os\n",
    "# Loop through each item in the Jupyter kernels directory\n",
    "for p in os.listdir(r\"C:\\Users\\pmuhuri\\AppData\\Roaming\\Jupyter\\kernels\"):\n",
    "    # Print each kernel name found in the directory\n",
    "    print(p)"
   ]
  },
  {
   "cell_type": "markdown",
   "metadata": {},
   "source": [
    "#### Find out the .exe files in the anaconda3 folder"
   ]
  },
  {
   "cell_type": "code",
   "execution_count": 56,
   "metadata": {},
   "outputs": [
    {
     "name": "stdout",
     "output_type": "stream",
     "text": [
      "C:\\Users\\pmuhuri\\AppData\\Local\\anaconda3\\python.exe\n",
      "C:\\Users\\pmuhuri\\AppData\\Local\\anaconda3\\pythonw.exe\n",
      "C:\\Users\\pmuhuri\\AppData\\Local\\anaconda3\\Uninstall-Anaconda3.exe\n",
      "C:\\Users\\pmuhuri\\AppData\\Local\\anaconda3\\_conda.exe\n"
     ]
    }
   ],
   "source": [
    "# Import the glob module which provides pattern matching for file paths\n",
    "import glob\n",
    "\n",
    "# Loop through all files with .exe extension in the Anaconda installation directory\n",
    "for name in glob.glob(r'C:\\Users\\pmuhuri\\AppData\\Local\\anaconda3\\*.exe'):\n",
    "    # Print each executable file path found\n",
    "    print(name)"
   ]
  },
  {
   "cell_type": "markdown",
   "metadata": {},
   "source": [
    "### List out selected .jar files (required) "
   ]
  },
  {
   "cell_type": "code",
   "execution_count": 60,
   "metadata": {
    "tags": []
   },
   "outputs": [
    {
     "name": "stdout",
     "output_type": "stream",
     "text": [
      "C:\\Program Files\\SASHome\\SASDeploymentManager\\9.4\\products\\deploywiz__94492__prt__xx__sp0__1\\deploywiz\\sas.svc.connection.jar\n",
      "C:\\Program Files\\SASHome\\SASDeploymentManager\\9.4\\products\\deploywiz__94492__prt__xx__sp0__1\\deploywiz\\log4j.jar\n",
      "C:\\Program Files\\SASHome\\SASDeploymentManager\\9.4\\products\\deploywiz__94492__prt__xx__sp0__1\\deploywiz\\sas.security.sspi.jar\n",
      "C:\\Program Files\\SASHome\\SASDeploymentManager\\9.4\\products\\deploywiz__94492__prt__xx__sp0__1\\deploywiz\\sas.core.jar\n"
     ]
    }
   ],
   "source": [
    "import os\n",
    "# Define a list of JAR files needed for SAS connection\n",
    "myfiles = ['sas.svc.connection.jar', 'log4j.jar', 'sas.security.sspi.jar', 'sas.core.jar']\n",
    "# Iterate through each file in the list\n",
    "for filename in myfiles:\n",
    "    # Print the full path by joining the base SAS directory with each filename\n",
    "    print(os.path.join('C:\\\\Program Files\\\\SASHome\\\\SASDeploymentManager\\\\9.4\\\\products\\\\deploywiz__94492__prt__xx__sp0__1\\\\deploywiz', \n",
    "    filename))"
   ]
  },
  {
   "cell_type": "markdown",
   "metadata": {},
   "source": [
    "#### Locate the sascfg_personal.py"
   ]
  },
  {
   "cell_type": "code",
   "execution_count": 2,
   "metadata": {},
   "outputs": [
    {
     "name": "stdout",
     "output_type": "stream",
     "text": [
      "CFGFILE ALREADY EXISTS: C:\\Users\\pmuhuri\\AppData\\Local\\anaconda3\\Lib\\site-packages\\saspy\\sascfg_personal.py\n"
     ]
    }
   ],
   "source": [
    "# Import the autocfg module from the saspy package\n",
    "from saspy import autocfg\n",
    "# Run the main function from autocfg, which launches the SAS configuration utility\n",
    "# This helps set up the connection between Python and SAS\n",
    "autocfg.main()"
   ]
  },
  {
   "cell_type": "markdown",
   "metadata": {},
   "source": [
    "#### Retrieve the content of the sascfg_personal.py"
   ]
  },
  {
   "cell_type": "code",
   "execution_count": 4,
   "metadata": {},
   "outputs": [
    {
     "name": "stdout",
     "output_type": "stream",
     "text": [
      "\n",
      "import os\n",
      "os.environ[\"PATH\"] += \";C:\\\\Program Files\\\\SASHome\\\\SASFoundation\\\\9.4\\\\core\\\\sasext\"\n",
      "\n",
      "SAS_config_names=['winlocal']\n",
      "\n",
      "default  = {'saspath'  : '/opt/sasinside/SASHome/SASFoundation/9.4/bin/sas_u8' }\n",
      "\n",
      "winlocal = {'java'      : 'C:\\Program Files (x86)\\Common Files\\Oracle\\Java\\javapath\\java.exe',  'encoding'  : 'windows-1252'}\n",
      "\n",
      " \n"
     ]
    }
   ],
   "source": [
    "# Open the SAS configuration file in read mode\n",
    "fd = open(r'C:\\Users\\pmuhuri\\AppData\\Local\\anaconda3\\Lib\\site-packages\\saspy\\sascfg_personal.py')\n",
    "# Read the entire content of the file and print it to the console\n",
    "print(fd.read())\n",
    "# Close the file to free up system resources\n",
    "fd.close()"
   ]
  },
  {
   "cell_type": "markdown",
   "metadata": {},
   "source": [
    "#### sascfg_personal.py"
   ]
  },
  {
   "cell_type": "code",
   "execution_count": null,
   "metadata": {},
   "outputs": [],
   "source": [
    "# Import the os module to interact with the operating system\n",
    "import os\n",
    "# Add the SAS executable directory to the system PATH environment variable\n",
    "# This allows Python to find and execute SAS programs\n",
    "os.environ[\"PATH\"] += \";C:\\\\Program Files\\\\SASHome\\\\SASFoundation\\\\9.4\\\\core\\\\sasext\"\n",
    "\n",
    "# Define a list of available SAS configuration names\n",
    "SAS_config_names=['winlocal']\n",
    "\n",
    "# Define a default configuration dictionary for SAS\n",
    "# This specifies the path to the SAS executable on Unix/Linux systems\n",
    "default  = {'saspath'  : '/opt/sasinside/SASHome/SASFoundation/9.4/bin/sas_u8' }\n",
    "\n",
    "# Define a Windows-specific configuration dictionary for SAS\n",
    "# Specifies the Java executable path and character encoding to use\n",
    "winlocal = {'java'      : 'C:\\Program Files (x86)\\Common Files\\Oracle\\Java\\javapath\\java.exe',  'encoding'  : 'windows-1252'}"
   ]
  },
  {
   "cell_type": "markdown",
   "metadata": {},
   "source": [
    "#### Test the local SAS connection using the SASPy module"
   ]
  },
  {
   "cell_type": "code",
   "execution_count": 46,
   "metadata": {},
   "outputs": [
    {
     "name": "stdout",
     "output_type": "stream",
     "text": [
      "SAS Connection established. Subprocess id is 16776\n",
      "\n"
     ]
    },
    {
     "data": {
      "text/html": [
       "<div>\n",
       "<style scoped>\n",
       "    .dataframe tbody tr th:only-of-type {\n",
       "        vertical-align: middle;\n",
       "    }\n",
       "\n",
       "    .dataframe tbody tr th {\n",
       "        vertical-align: top;\n",
       "    }\n",
       "\n",
       "    .dataframe thead th {\n",
       "        text-align: right;\n",
       "    }\n",
       "</style>\n",
       "<table border=\"1\" class=\"dataframe\">\n",
       "  <thead>\n",
       "    <tr style=\"text-align: right;\">\n",
       "      <th></th>\n",
       "      <th>Variable</th>\n",
       "      <th>N</th>\n",
       "      <th>NMiss</th>\n",
       "      <th>Median</th>\n",
       "      <th>Mean</th>\n",
       "      <th>StdDev</th>\n",
       "      <th>Min</th>\n",
       "      <th>P25</th>\n",
       "      <th>P50</th>\n",
       "      <th>P75</th>\n",
       "      <th>Max</th>\n",
       "    </tr>\n",
       "  </thead>\n",
       "  <tbody>\n",
       "    <tr>\n",
       "      <th>0</th>\n",
       "      <td>Age</td>\n",
       "      <td>19.0</td>\n",
       "      <td>0.0</td>\n",
       "      <td>13.0</td>\n",
       "      <td>13.315789</td>\n",
       "      <td>1.492672</td>\n",
       "      <td>11.0</td>\n",
       "      <td>12.0</td>\n",
       "      <td>13.0</td>\n",
       "      <td>15.0</td>\n",
       "      <td>16.0</td>\n",
       "    </tr>\n",
       "    <tr>\n",
       "      <th>1</th>\n",
       "      <td>Height</td>\n",
       "      <td>19.0</td>\n",
       "      <td>0.0</td>\n",
       "      <td>62.8</td>\n",
       "      <td>62.336842</td>\n",
       "      <td>5.127075</td>\n",
       "      <td>51.3</td>\n",
       "      <td>57.5</td>\n",
       "      <td>62.8</td>\n",
       "      <td>66.5</td>\n",
       "      <td>72.0</td>\n",
       "    </tr>\n",
       "    <tr>\n",
       "      <th>2</th>\n",
       "      <td>Weight</td>\n",
       "      <td>19.0</td>\n",
       "      <td>0.0</td>\n",
       "      <td>99.5</td>\n",
       "      <td>100.026316</td>\n",
       "      <td>22.773933</td>\n",
       "      <td>50.5</td>\n",
       "      <td>84.0</td>\n",
       "      <td>99.5</td>\n",
       "      <td>112.5</td>\n",
       "      <td>150.0</td>\n",
       "    </tr>\n",
       "  </tbody>\n",
       "</table>\n",
       "</div>"
      ],
      "text/plain": [
       "  Variable     N  NMiss  Median        Mean     StdDev   Min   P25   P50  \\\n",
       "0      Age  19.0    0.0    13.0   13.315789   1.492672  11.0  12.0  13.0   \n",
       "1   Height  19.0    0.0    62.8   62.336842   5.127075  51.3  57.5  62.8   \n",
       "2   Weight  19.0    0.0    99.5  100.026316  22.773933  50.5  84.0  99.5   \n",
       "\n",
       "     P75    Max  \n",
       "0   15.0   16.0  \n",
       "1   66.5   72.0  \n",
       "2  112.5  150.0  "
      ]
     },
     "execution_count": 46,
     "metadata": {},
     "output_type": "execute_result"
    }
   ],
   "source": [
    "# Assistant\n",
    "# Import the SAS Python interface library\n",
    "import saspy\n",
    "# Import pandas library for data manipulation\n",
    "import pandas as pd\n",
    "# Create a SAS session using the 'winlocal' configuration\n",
    "sas = saspy.SASsession(cfgname='winlocal')\n",
    "# Access the CLASS dataset from the SASHELP library\n",
    "w_class = sas.sasdata(\"CLASS\",\"SASHELP\")\n",
    "# Generate descriptive statistics for the CLASS dataset\n",
    "w_class.describe()"
   ]
  },
  {
   "cell_type": "markdown",
   "metadata": {},
   "source": [
    "#### List out the environmental variables and their values (Method 1)"
   ]
  },
  {
   "cell_type": "code",
   "execution_count": null,
   "metadata": {},
   "outputs": [],
   "source": [
    "# Import the os module, which provides functions for interacting with the operating system\n",
    "import os\n",
    "# Loop through all environment variables (key-value pairs)\n",
    "for k, v in os.environ.items():\n",
    "    # Print each environment variable in the format \"KEY=VALUE\"\n",
    "    print(f'{k}={v}')"
   ]
  },
  {
   "cell_type": "markdown",
   "metadata": {},
   "source": [
    "#### List out the environmental variables and their values (Method 2)"
   ]
  },
  {
   "cell_type": "code",
   "execution_count": null,
   "metadata": {},
   "outputs": [],
   "source": [
    "# Import the os module to access operating system functionality\n",
    "import os\n",
    "# Loop through all environment variables\n",
    "for a in os.environ:\n",
    "    # Print each environment variable name and its value\n",
    "    print('Var: ', a, 'Value: ', os.getenv(a))\n",
    "# Print a message indicating the process is complete\n",
    "print(\"all done\")"
   ]
  }
 ],
 "metadata": {
  "kernelspec": {
   "display_name": "Python [conda env:base] *",
   "language": "python",
   "name": "conda-base-py"
  },
  "language_info": {
   "codemirror_mode": {
    "name": "ipython",
    "version": 3
   },
   "file_extension": ".py",
   "mimetype": "text/x-python",
   "name": "python",
   "nbconvert_exporter": "python",
   "pygments_lexer": "ipython3",
   "version": "3.12.7"
  }
 },
 "nbformat": 4,
 "nbformat_minor": 4
}
