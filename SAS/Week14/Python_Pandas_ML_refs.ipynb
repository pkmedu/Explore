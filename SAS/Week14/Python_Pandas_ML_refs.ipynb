{
 "cells": [
  {
   "cell_type": "markdown",
   "metadata": {},
   "source": [
    "[Python Pandas For Data Discovery in 7 Simple Steps](https://www.kdnuggets.com/2020/03/python-pandas-data-discovery.html)"
   ]
  },
  {
   "cell_type": "markdown",
   "metadata": {},
   "source": [
    "[How to select rows and columns in Pandas using [ ], .loc, iloc, .at and .iat](https://www.kdnuggets.com/2019/06/select-rows-columns-pandas.html)\n",
    "\n",
    "[The Essential Toolbox for Data Cleaning](https://www.kdnuggets.com/2019/12/essential-toolbox-data-cleaning.html)\n",
    "\n",
    "[Why and How to Use Pandas with Large Data](https://towardsdatascience.com/why-and-how-to-use-pandas-with-large-data-9594dda2ea4c)"
   ]
  },
  {
   "cell_type": "markdown",
   "metadata": {},
   "source": [
    "[10 Free Top Notch Machine Learning Courses](https://www.kdnuggets.com/2019/12/10-free-top-notch-courses-machine-learning.html)"
   ]
  },
  {
   "cell_type": "markdown",
   "metadata": {},
   "source": [
    "[A Practical Approach to Machine Learning - Python, NumPy, Pandas, ML Basics Logistic regressison, etc](https://practicalai.me/)"
   ]
  },
  {
   "cell_type": "code",
   "execution_count": 6,
   "metadata": {},
   "outputs": [
    {
     "name": "stdout",
     "output_type": "stream",
     "text": [
      "0    498.49\n",
      "1       NaN\n",
      "2    994.97\n",
      "3    564.59\n",
      "4    783.01\n",
      "dtype: float64\n"
     ]
    }
   ],
   "source": [
    "import pandas as pd \n",
    "import numpy as np \n",
    "  \n",
    "# making list of values \n",
    "values = [498.49, np.nan, 994.97, 564.59, 783.01] \n",
    "\n",
    "  \n",
    "# making series from list \n",
    "series = pd.Series(values) \n",
    "print(series) \n",
    "\n",
    "# calling method \n",
    "#cumsum = series.cumsum() \n",
    "#dtype(cumsum)\n",
    "  \n",
    "# concatenating     \n",
    "#df = pd.DataFrame(series, cumsum)\n",
    "#print(df)\n",
    "\n",
    "  "
   ]
  },
  {
   "cell_type": "markdown",
   "metadata": {},
   "source": [
    "[Stop Hurting Your Pandas!](https://www.kdnuggets.com/2020/04/stop-hurting-pandas.html)"
   ]
  },
  {
   "cell_type": "markdown",
   "metadata": {},
   "source": [
    "[Python for data analysis… is it really that simple?!?](https://www.kdnuggets.com/2020/04/python-data-analysis-really-that-simple.html)"
   ]
  }
 ],
 "metadata": {
  "kernelspec": {
   "display_name": "Python 3 (ipykernel)",
   "language": "python",
   "name": "python3"
  },
  "language_info": {
   "codemirror_mode": {
    "name": "ipython",
    "version": 3
   },
   "file_extension": ".py",
   "mimetype": "text/x-python",
   "name": "python",
   "nbconvert_exporter": "python",
   "pygments_lexer": "ipython3",
   "version": "3.9.7"
  }
 },
 "nbformat": 4,
 "nbformat_minor": 4
}
