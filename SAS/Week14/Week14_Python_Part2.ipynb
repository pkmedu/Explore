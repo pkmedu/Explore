{
 "cells": [
  {
   "cell_type": "markdown",
   "metadata": {},
   "source": [
    "# Week 14 (Part 2)\n"
   ]
  },
  {
   "cell_type": "markdown",
   "metadata": {},
   "source": [
    "#### How to list out the the current directory name"
   ]
  },
  {
   "cell_type": "code",
   "execution_count": 1,
   "metadata": {
    "tags": []
   },
   "outputs": [
    {
     "name": "stdout",
     "output_type": "stream",
     "text": [
      "Path at terminal when executing this file\n",
      "C:\\Users\\pmuhuri\\sascourse\\Week14\n",
      "\n"
     ]
    }
   ],
   "source": [
    "import os\n",
    "print('Path at terminal when executing this file')\n",
    "print(os.getcwd() + '\\n')"
   ]
  },
  {
   "cell_type": "code",
   "execution_count": 2,
   "metadata": {
    "tags": []
   },
   "outputs": [
    {
     "data": {
      "text/plain": [
       "'C:\\\\Users\\\\pmuhuri\\\\sascourse\\\\Week14'"
      ]
     },
     "execution_count": 2,
     "metadata": {},
     "output_type": "execute_result"
    }
   ],
   "source": [
    "%pwd"
   ]
  },
  {
   "cell_type": "code",
   "execution_count": 14,
   "metadata": {},
   "outputs": [
    {
     "data": {
      "text/plain": [
       "'C:\\\\Users\\\\pmuhuri\\\\AppData\\\\Local\\\\Temp'"
      ]
     },
     "execution_count": 14,
     "metadata": {},
     "output_type": "execute_result"
    }
   ],
   "source": [
    "import os\n",
    "os.environ['TEMP']"
   ]
  },
  {
   "cell_type": "code",
   "execution_count": null,
   "metadata": {},
   "outputs": [],
   "source": [
    "import os\n",
    "for a in os.environ:\n",
    "    print('Var: ',a, 'Value: ', os.getenv(a))\n",
    "print ('all done')"
   ]
  },
  {
   "cell_type": "markdown",
   "metadata": {},
   "source": [
    "import os\n",
    "for a in os.environ:\n",
    "    print(a, os.getenv(a))\n"
   ]
  },
  {
   "cell_type": "markdown",
   "metadata": {},
   "source": [
    "import os\n",
    "for a in os.environ:\n",
    "    print('Var: ', a, 'Value: ', os.getenv(a))\n",
    "print(\"all done\")"
   ]
  },
  {
   "cell_type": "markdown",
   "metadata": {},
   "source": [
    "#### How to list all files horizontally from a specified directory"
   ]
  },
  {
   "cell_type": "code",
   "execution_count": 1,
   "metadata": {},
   "outputs": [
    {
     "name": "stdout",
     "output_type": "stream",
     "text": [
      "['County_data.sas', 'datasets_handler.py', 'Download_to_SDS_2018_9_4M5.sas', 'dump_data.py', 'Ex_Sum_statement_cars_data.sas', 'Generated_Code.sas', 'locate_datasets.py', 'MEPS_download_nonmacro.sas', 'Non_macro_code_2018.sas', 'resources.tar.gz', 'spd.sas', 'Stat6197_Spring_2020.sas', 'Subdir1', 'Subdir2', 'support.py', 'Sysfunc.sas', '__init__.py']\n"
     ]
    }
   ],
   "source": [
    "import os\n",
    "print(os.listdir(\"C:\\Misc\")) "
   ]
  },
  {
   "cell_type": "markdown",
   "metadata": {},
   "source": [
    "#### How to list all files vertically from a specified directory"
   ]
  },
  {
   "cell_type": "code",
   "execution_count": 15,
   "metadata": {},
   "outputs": [
    {
     "name": "stdout",
     "output_type": "stream",
     "text": [
      "County_data.sas\n",
      "datasets_handler.py\n",
      "Download_to_SDS_2018_9_4M5.sas\n",
      "dump_data.py\n",
      "Ex_Sum_statement_cars_data.sas\n",
      "Generated_Code.sas\n",
      "locate_datasets.py\n",
      "MEPS_download_nonmacro.sas\n",
      "Non_macro_code_2018.sas\n",
      "resources.tar.gz\n",
      "spd.sas\n",
      "Stat6197_Spring_2020.sas\n",
      "Subdir1\n",
      "Subdir2\n",
      "support.py\n",
      "Sysfunc.sas\n",
      "__init__.py\n"
     ]
    }
   ],
   "source": [
    "import os\n",
    "names = os.listdir('C:\\Misc')\n",
    "for p in names:\n",
    "    print(p)"
   ]
  },
  {
   "cell_type": "code",
   "execution_count": 2,
   "metadata": {},
   "outputs": [
    {
     "name": "stdout",
     "output_type": "stream",
     "text": [
      "County_data.sas\n",
      "datasets_handler.py\n",
      "Download_to_SDS_2018_9_4M5.sas\n",
      "dump_data.py\n",
      "Ex_Sum_statement_cars_data.sas\n",
      "Generated_Code.sas\n",
      "locate_datasets.py\n",
      "MEPS_download_nonmacro.sas\n",
      "Non_macro_code_2018.sas\n",
      "resources.tar.gz\n",
      "spd.sas\n",
      "Stat6197_Spring_2020.sas\n",
      "Subdir1\n",
      "Subdir2\n",
      "support.py\n",
      "Sysfunc.sas\n",
      "__init__.py\n"
     ]
    }
   ],
   "source": [
    "import os\n",
    "names = os.listdir(\"C:\\Misc\")\n",
    "for p in names:\n",
    "    print(p)"
   ]
  },
  {
   "cell_type": "markdown",
   "metadata": {},
   "source": [
    "#### How to list all files with a particular extension (.SAS) along with the root directory name (using the glob library)"
   ]
  },
  {
   "cell_type": "markdown",
   "metadata": {},
   "source": [
    "The \"raw\" string treats the backslash as a regular character, not an escape character. (An escape character introduces an escape sequence, like \\n for the newline character.\n",
    "\n",
    "When using a regular Python string, it's necessary to use two backslashes in the file path because the first backslash is the escape character, but backslash + backslash effectively \"unescapes\" the character, producing a single backslash when you print it. (per email communication with Dolsy Smith, GW Library) \n",
    "\n",
    "There's some useful explanation on [this stackoverflow post](https://stackoverflow.com/questions/11924706/how-to-get-rid-of-double-backslash-in-python-windows-file-path-string). \n",
    "```\n",
    "path = r'C:\\Misc\\data'\n",
    "```"
   ]
  },
  {
   "cell_type": "code",
   "execution_count": 9,
   "metadata": {},
   "outputs": [
    {
     "name": "stdout",
     "output_type": "stream",
     "text": [
      "C:\\Misc\\County_data.sas\n",
      "C:\\Misc\\Download_to_SDS_2018_9_4M5.sas\n",
      "C:\\Misc\\Ex_Sum_statement_cars_data.sas\n",
      "C:\\Misc\\Generated_Code.sas\n",
      "C:\\Misc\\MEPS_download_nonmacro.sas\n",
      "C:\\Misc\\Non_macro_code_2018.sas\n",
      "C:\\Misc\\spd.sas\n",
      "C:\\Misc\\Stat6197_Spring_2020.sas\n",
      "C:\\Misc\\Sysfunc.sas\n"
     ]
    }
   ],
   "source": [
    "import glob\n",
    "path = 'C:\\\\Misc'\n",
    "files = (f for f in glob.glob(path + '**/*.sas', recursive=True))\n",
    "for f in files:\n",
    "    print(f)"
   ]
  },
  {
   "cell_type": "code",
   "execution_count": 2,
   "metadata": {
    "tags": []
   },
   "outputs": [
    {
     "name": "stdout",
     "output_type": "stream",
     "text": [
      "C:\\Data\\ADAM.sas\n"
     ]
    }
   ],
   "source": [
    "import glob\n",
    "path = 'C:\\\\'\n",
    "files = (f for f in glob.glob(path + '**/*ADAM*.sas', recursive=True))\n",
    "for f in files:\n",
    "    print(f)"
   ]
  },
  {
   "cell_type": "code",
   "execution_count": 4,
   "metadata": {},
   "outputs": [
    {
     "name": "stdout",
     "output_type": "stream",
     "text": [
      "C:\\Misc\\County_data.sas\n",
      "C:\\Misc\\Download_to_SDS_2018_9_4M5.sas\n",
      "C:\\Misc\\Ex_Sum_statement_cars_data.sas\n",
      "C:\\Misc\\Generated_Code.sas\n",
      "C:\\Misc\\MEPS_download_nonmacro.sas\n",
      "C:\\Misc\\Non_macro_code_2018.sas\n",
      "C:\\Misc\\spd.sas\n",
      "C:\\Misc\\Stat6197_Spring_2020.sas\n",
      "C:\\Misc\\Sysfunc.sas\n"
     ]
    }
   ],
   "source": [
    "import os\n",
    "path = r'C:\\Misc'\n",
    "files = []\n",
    "for r, d, f in os.walk(path):\n",
    "    for file in f:\n",
    "        if '.sas' in file:\n",
    "            files.append(os.path.join(r, file))\n",
    "            \n",
    "for f in files:\n",
    "    print(f)"
   ]
  },
  {
   "cell_type": "markdown",
   "metadata": {},
   "source": [
    "#### How to list all subdirectories but no files (using the OS library)"
   ]
  },
  {
   "cell_type": "code",
   "execution_count": 11,
   "metadata": {},
   "outputs": [
    {
     "name": "stdout",
     "output_type": "stream",
     "text": [
      "C:\\Misc\\Subdir1\n",
      "C:\\Misc\\Subdir2\n"
     ]
    }
   ],
   "source": [
    "import os\n",
    "path = r'C:\\Misc'\n",
    "folders = []\n",
    "for r, d, f in os.walk(path):\n",
    "    for folder in d:\n",
    "        folders.append(os.path.join(r, folder))\n",
    "            \n",
    "for f in folders:\n",
    "    print(f)"
   ]
  },
  {
   "cell_type": "markdown",
   "metadata": {},
   "source": [
    "#### How to list all files along with the parent directory name"
   ]
  },
  {
   "cell_type": "code",
   "execution_count": 6,
   "metadata": {},
   "outputs": [
    {
     "name": "stdout",
     "output_type": "stream",
     "text": [
      "C:\\Misc\\County_data.sas\n",
      "C:\\Misc\\Download_to_SDS_2018_9_4M5.sas\n",
      "C:\\Misc\\Ex_Sum_statement_cars_data.sas\n",
      "C:\\Misc\\Generated_Code.sas\n",
      "C:\\Misc\\MEPS_download_nonmacro.sas\n",
      "C:\\Misc\\Non_macro_code_2018.sas\n",
      "C:\\Misc\\spd.sas\n",
      "C:\\Misc\\Stat6197_Spring_2020.sas\n",
      "C:\\Misc\\Sysfunc.sas\n"
     ]
    }
   ],
   "source": [
    "from pathlib import Path\n",
    "dir =  Path(r'C:\\Misc')\n",
    "files = dir.glob('*.sas')\n",
    "for i in files:\n",
    "    print(i)"
   ]
  },
  {
   "cell_type": "markdown",
   "metadata": {},
   "source": [
    "#### How to list all files along with the parent directory name, and the date created but no names for subdirectories"
   ]
  },
  {
   "cell_type": "code",
   "execution_count": 16,
   "metadata": {},
   "outputs": [
    {
     "name": "stdout",
     "output_type": "stream",
     "text": [
      "                      File_Name   Parent                   Created\n",
      "                County_data.sas  C:\\Misc  Sun May 24 09:27:08 2020\n",
      " Download_to_SDS_2018_9_4M5.sas  C:\\Misc  Fri Sep  4 16:54:12 2020\n",
      " Ex_Sum_statement_cars_data.sas  C:\\Misc  Sun Apr 19 23:34:08 2020\n",
      "             Generated_Code.sas  C:\\Misc  Wed Sep 30 20:55:09 2020\n",
      "     MEPS_download_nonmacro.sas  C:\\Misc  Mon Jun 29 11:50:09 2020\n",
      "        Non_macro_code_2018.sas  C:\\Misc  Wed Sep 30 02:32:17 2020\n",
      "                        spd.sas  C:\\Misc  Sat Aug 31 15:06:16 2019\n",
      "       Stat6197_Spring_2020.sas  C:\\Misc  Sat May  9 10:41:12 2020\n",
      "                    Sysfunc.sas  C:\\Misc  Sat Aug 31 15:09:04 2019\n"
     ]
    }
   ],
   "source": [
    "import pandas as pd\n",
    "from pathlib import Path\n",
    "import time\n",
    "\n",
    "p = Path(r'C:\\Misc')\n",
    "all_files = []\n",
    "for i in p.rglob('*.SAS'):\n",
    "    all_files.append((i.name, i.parent, time.ctime(i.stat().st_ctime)))\n",
    "\n",
    "columns = ['File_Name','Parent', 'Created']\n",
    "df = pd.DataFrame.from_records(all_files, columns=columns)\n",
    "print(df.to_string(index=False))\n"
   ]
  },
  {
   "cell_type": "code",
   "execution_count": 5,
   "metadata": {},
   "outputs": [
    {
     "name": "stdout",
     "output_type": "stream",
     "text": [
      "C:\\Data\\Change_FIPS_master.sas\n",
      "C:\\Data\\gapminder.SAS\n",
      "C:\\Data\\Merge_Data.sas\n",
      "C:\\Data\\Read_county_data.sas\n"
     ]
    }
   ],
   "source": [
    "from pathlib import Path\n",
    "dir =  Path(r'C:\\Data')\n",
    "files = dir.glob('*.sas')\n",
    "for i in files:\n",
    "    print(i)"
   ]
  },
  {
   "cell_type": "markdown",
   "metadata": {},
   "source": [
    "[How to select rows and columns in Pandas using [ ], .loc, iloc, .at and .iat](https://www.kdnuggets.com/2019/06/select-rows-columns-pandas.html)"
   ]
  },
  {
   "cell_type": "code",
   "execution_count": 9,
   "metadata": {},
   "outputs": [
    {
     "data": {
      "text/plain": [
       "False"
      ]
     },
     "execution_count": 9,
     "metadata": {},
     "output_type": "execute_result"
    }
   ],
   "source": [
    "from pathlib import Path\n",
    "my_file = Path(r'C\\Data\\Create_formats.sas')\n",
    "my_file.is_file() "
   ]
  },
  {
   "cell_type": "markdown",
   "metadata": {},
   "source": [
    "#### List out the name of the file if it exists in any folder(s) (using the OS library)"
   ]
  },
  {
   "cell_type": "code",
   "execution_count": 1,
   "metadata": {},
   "outputs": [
    {
     "name": "stdout",
     "output_type": "stream",
     "text": [
      "C:\\Data\\gapminder.sas7bdat\n"
     ]
    }
   ],
   "source": [
    "import os\n",
    "path = 'C:\\\\'\n",
    "files = []\n",
    "for r, d, f in os.walk(path):\n",
    "    for file in f:\n",
    "        if 'gapminder.sas' in file:\n",
    "            files.append(os.path.join(r, file))\n",
    "            \n",
    "for f in files:\n",
    "    print(f)"
   ]
  },
  {
   "cell_type": "markdown",
   "metadata": {},
   "source": [
    "#### List out the name of the file if it exists in any folder (using the glob library - more efficient and faster)"
   ]
  },
  {
   "cell_type": "code",
   "execution_count": 1,
   "metadata": {},
   "outputs": [
    {
     "name": "stdout",
     "output_type": "stream",
     "text": [
      "C:\\Data\\gapminder.sas\n",
      "C:\\NIH\\gapminder.sas\n",
      "C:\\Users\\pmuhuri\\Documents\\My SAS Files\\9.4\\gapminder.sas\n"
     ]
    }
   ],
   "source": [
    "import glob\n",
    "path = 'C:\\\\'\n",
    "files = (f for f in glob.glob(path + '**/gapminder.sas', recursive=True))\n",
    "for f in files:\n",
    "    print(f)"
   ]
  },
  {
   "cell_type": "code",
   "execution_count": null,
   "metadata": {},
   "outputs": [],
   "source": [
    "import glob\n",
    "path = 'C:\\\\'\n",
    "files = (f for f in glob.glob(path + '**/Read*.*', recursive=True))\n",
    "for f in files:\n",
    "    print(f)"
   ]
  },
  {
   "cell_type": "markdown",
   "metadata": {},
   "source": [
    "#### Count the number of files in a folder"
   ]
  },
  {
   "cell_type": "code",
   "execution_count": 3,
   "metadata": {},
   "outputs": [
    {
     "data": {
      "text/plain": [
       "184"
      ]
     },
     "execution_count": 3,
     "metadata": {},
     "output_type": "execute_result"
    }
   ],
   "source": [
    "import os\n",
    "cpt = sum([len(files) for r, d, files in os.walk(r'C:\\SASHELP_Raw1')])\n",
    "cpt"
   ]
  },
  {
   "cell_type": "markdown",
   "metadata": {},
   "source": [
    "#### Move .SAS files from one folder to another folder"
   ]
  },
  {
   "cell_type": "code",
   "execution_count": 4,
   "metadata": {},
   "outputs": [],
   "source": [
    "import os\n",
    "import shutil\n",
    "sourcepath=r'C:\\NIH'\n",
    "sourcefiles = os.listdir(sourcepath)\n",
    "destinationpath = r'C:\\Data'\n",
    "for file in sourcefiles:\n",
    "    if file.endswith('.sas'):\n",
    "        shutil.move(os.path.join(sourcepath,file), os.path.join(destinationpath,file))"
   ]
  },
  {
   "cell_type": "markdown",
   "metadata": {},
   "source": [
    "#### Copy .SAS files from one folder to another folder\n",
    "[Unicode Error \"unicodeescape\" ... cannot pen text file](https://stackoverflow.com/questions/1347791/unicode-error-unicodeescape-codec-cant-decode-bytes-cannot-open-text-file)\n",
    "\n",
    "```\n",
    "You either need to duplicate all backslashes:\n",
    "\n",
    "\"C:\\\\Users\\\\Eric\\\\Desktop\\\\beeline.txt\"\n",
    "Or prefix the string with r (to produce a raw string):\n",
    "\n",
    "r\"C:\\Users\\Eric\\Desktop\\beeline.txt\"\n",
    "```\n"
   ]
  },
  {
   "cell_type": "code",
   "execution_count": 7,
   "metadata": {},
   "outputs": [],
   "source": [
    "import glob, os, shutil\n",
    "\n",
    "files = glob.iglob(os.path.join(r'C:\\Data', \"*.sas\"))\n",
    "for file in files:\n",
    "    if os.path.isfile(file):\n",
    "        shutil.copy2(file, r'C:\\NIH')"
   ]
  },
  {
   "cell_type": "code",
   "execution_count": 8,
   "metadata": {},
   "outputs": [
    {
     "name": "stdout",
     "output_type": "stream",
     "text": [
      "C:\\NIH\\Change_FIPS_master.sas\n",
      "C:\\NIH\\gapminder.SAS\n",
      "C:\\NIH\\Merge_Data.sas\n",
      "C:\\NIH\\Read_county_data.sas\n"
     ]
    }
   ],
   "source": [
    "from pathlib import Path\n",
    "dir =  Path(r'C:\\NIH')\n",
    "files = dir.glob('*.sas')\n",
    "for i in files:\n",
    "    print(i)"
   ]
  },
  {
   "cell_type": "code",
   "execution_count": 4,
   "metadata": {},
   "outputs": [],
   "source": [
    "from pathlib import Path\n",
    "dir =  Path(r'C:\\SASCourse')\n",
    "files = dir.glob('*.sas')\n",
    "for i in files:\n",
    "    print(i)"
   ]
  },
  {
   "cell_type": "code",
   "execution_count": 22,
   "metadata": {},
   "outputs": [
    {
     "name": "stdout",
     "output_type": "stream",
     "text": [
      "CFGFILE ALREADY EXISTS: C:\\Users\\pmuhuri\\AppData\\Local\\Continuum\\anaconda3\\lib\\site-packages\\saspy\\sascfg_personal.py\n"
     ]
    }
   ],
   "source": [
    "from saspy import autocfg\n",
    "autocfg.main()"
   ]
  },
  {
   "cell_type": "code",
   "execution_count": 10,
   "metadata": {},
   "outputs": [
    {
     "name": "stdout",
     "output_type": "stream",
     "text": [
      "proc sort data = sashelp.cars; by make; run;\n",
      "data cars;\n",
      "  set sashelp.cars;\n",
      "  count + 1;\n",
      "  by make;\n",
      "  if first.make then count = 1;\n",
      "  if last.make;\n",
      "run;\n",
      "proc print data=cars;\n",
      "var make count;\n",
      "run;\n",
      "proc sort data=sashelp.cars out=cars; by make; run;\n",
      "data counts (keep= make model type count_of_make);\n",
      "   set cars; by make;\n",
      "   if first.make then count_of_make=0;\n",
      "    count_of_make+1;\n",
      "   if last.make;\n",
      "  run;\n",
      "proc print data=&syslast; run;\n",
      "\n"
     ]
    }
   ],
   "source": [
    "fd = open(r'C:\\sascourse\\week14\\SAS_Codes\\Ex_sum_statement_cars_data.sas')\n",
    "print(fd.read())\n",
    "fd.close()"
   ]
  },
  {
   "cell_type": "markdown",
   "metadata": {},
   "source": [
    "#### How to know the pandas version"
   ]
  },
  {
   "cell_type": "code",
   "execution_count": null,
   "metadata": {},
   "outputs": [],
   "source": [
    "pd.__version__"
   ]
  },
  {
   "cell_type": "markdown",
   "metadata": {},
   "source": [
    "#### Use the show_versions() function to know the versions of pandas' dependencies"
   ]
  },
  {
   "cell_type": "code",
   "execution_count": null,
   "metadata": {},
   "outputs": [],
   "source": [
    "import pandas as pd\n",
    "pd.show_versions()"
   ]
  },
  {
   "cell_type": "code",
   "execution_count": 25,
   "metadata": {},
   "outputs": [
    {
     "name": "stdout",
     "output_type": "stream",
     "text": [
      "3.7.4\n"
     ]
    }
   ],
   "source": [
    "from platform import python_version\n",
    "print(python_version())\n"
   ]
  },
  {
   "cell_type": "code",
   "execution_count": null,
   "metadata": {},
   "outputs": [],
   "source": [
    "import sys\n",
    "sys.path"
   ]
  },
  {
   "cell_type": "code",
   "execution_count": 26,
   "metadata": {},
   "outputs": [
    {
     "name": "stdout",
     "output_type": "stream",
     "text": [
      "C:\\sascourse\\Week14\n",
      "C:\\Users\\pmuhuri\\AppData\\Local\\Continuum\\anaconda3\\python37.zip\n",
      "C:\\Users\\pmuhuri\\AppData\\Local\\Continuum\\anaconda3\\DLLs\n",
      "C:\\Users\\pmuhuri\\AppData\\Local\\Continuum\\anaconda3\\lib\n",
      "C:\\Users\\pmuhuri\\AppData\\Local\\Continuum\\anaconda3\n",
      "\n",
      "C:\\Users\\pmuhuri\\AppData\\Roaming\\Python\\Python37\\site-packages\n",
      "C:\\Users\\pmuhuri\\AppData\\Local\\Continuum\\anaconda3\\lib\\site-packages\n",
      "C:\\Users\\pmuhuri\\AppData\\Local\\Continuum\\anaconda3\\lib\\site-packages\\win32\n",
      "C:\\Users\\pmuhuri\\AppData\\Local\\Continuum\\anaconda3\\lib\\site-packages\\win32\\lib\n",
      "C:\\Users\\pmuhuri\\AppData\\Local\\Continuum\\anaconda3\\lib\\site-packages\\Pythonwin\n",
      "C:\\Users\\pmuhuri\\AppData\\Local\\Continuum\\anaconda3\\lib\\site-packages\\IPython\\extensions\n",
      "C:\\Users\\pmuhuri\\.ipython\n"
     ]
    }
   ],
   "source": [
    "import sys\n",
    "#print(sys.path)\n",
    "for path in sys.path: print(path)"
   ]
  },
  {
   "cell_type": "markdown",
   "metadata": {},
   "source": [
    "[pprint : Data pretty printer in Python](https://www.geeksforgeeks.org/pprint-data-pretty-printer-python/)\n",
    "The following code also works."
   ]
  },
  {
   "cell_type": "code",
   "execution_count": null,
   "metadata": {},
   "outputs": [],
   "source": [
    "import sys\n",
    "import pprint\n",
    "# pretty print module search paths\n",
    "pprint.pprint(sys.path)"
   ]
  },
  {
   "cell_type": "markdown",
   "metadata": {},
   "source": [
    "[pathlib — Object-oriented filesystem paths](https://docs.python.org/3/library/pathlib.html)"
   ]
  },
  {
   "cell_type": "code",
   "execution_count": 9,
   "metadata": {},
   "outputs": [
    {
     "name": "stdout",
     "output_type": "stream",
     "text": [
      "Diagnostics2_sascfg_personal.ipynb\n",
      "Python_Pandas_ML_refs.ipynb\n",
      "Week14_Cheatsheet_Python_R.ipynb\n",
      "Week14_Jupyter_Part3.ipynb\n",
      "Week14_Pandas_Part4.ipynb\n",
      "Week14_Pandas_Part5.ipynb\n",
      "Week14_Python_Part2.ipynb\n",
      "Week14_SASPy_Part1.ipynb\n"
     ]
    }
   ],
   "source": [
    "import pathlib\n",
    "py = pathlib.Path().glob(\"*.ipynb\")\n",
    "for file in py: \n",
    "    print(file)"
   ]
  },
  {
   "cell_type": "code",
   "execution_count": 4,
   "metadata": {},
   "outputs": [
    {
     "name": "stdout",
     "output_type": "stream",
     "text": [
      "Directory changed\n"
     ]
    }
   ],
   "source": [
    "# change the current directory to specified directory \n",
    "os.chdir(r\"C:\\Data\") \n",
    "print(\"Directory changed\") "
   ]
  },
  {
   "cell_type": "code",
   "execution_count": 5,
   "metadata": {},
   "outputs": [
    {
     "data": {
      "text/plain": [
       "'C:\\\\Data'"
      ]
     },
     "execution_count": 5,
     "metadata": {},
     "output_type": "execute_result"
    }
   ],
   "source": [
    "%pwd"
   ]
  },
  {
   "cell_type": "code",
   "execution_count": null,
   "metadata": {},
   "outputs": [],
   "source": []
  }
 ],
 "metadata": {
  "kernelspec": {
   "display_name": "Python [conda env:base] *",
   "language": "python",
   "name": "conda-base-py"
  },
  "language_info": {
   "codemirror_mode": {
    "name": "ipython",
    "version": 3
   },
   "file_extension": ".py",
   "mimetype": "text/x-python",
   "name": "python",
   "nbconvert_exporter": "python",
   "pygments_lexer": "ipython3",
   "version": "3.12.7"
  }
 },
 "nbformat": 4,
 "nbformat_minor": 4
}
