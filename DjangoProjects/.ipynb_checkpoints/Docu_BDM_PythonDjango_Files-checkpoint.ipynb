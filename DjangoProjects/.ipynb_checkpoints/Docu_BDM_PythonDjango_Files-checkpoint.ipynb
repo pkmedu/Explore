{
 "cells": [
  {
   "cell_type": "markdown",
   "id": "841776e6-ef0f-472f-ad5b-4caa0a5a78e6",
   "metadata": {},
   "source": [
    "##### Filename: C:\\Explore\\DjangoProjects\\Docu_BDM_PythonDjango_Files.ipynb"
   ]
  },
  {
   "cell_type": "markdown",
   "id": "238e35cf-35b0-43d3-9a64-67971651c14a",
   "metadata": {},
   "source": [
    "### Folder (Directory) Structures and Filenames Documentation\n",
    "#### Bangladesh Minority YouTube Video Links with Dashboard Display "
   ]
  },
  {
   "cell_type": "code",
   "execution_count": 2,
   "id": "6da60129-9d18-4d87-ac9d-87f7a7eb5399",
   "metadata": {},
   "outputs": [
    {
     "data": {
      "text/markdown": [
       "**Document Date:** 2025-06-21 01:59:14"
      ],
      "text/plain": [
       "<IPython.core.display.Markdown object>"
      ]
     },
     "metadata": {},
     "output_type": "display_data"
    }
   ],
   "source": [
    "from datetime import datetime\n",
    "from IPython.display import Markdown, display\n",
    "\n",
    "current_date = datetime.now().strftime('%Y-%m-%d %H:%M:%S')\n",
    "display(Markdown(f\"**Document Date:** {current_date}\"))"
   ]
  },
  {
   "cell_type": "code",
   "execution_count": 3,
   "id": "294dc58f-2112-4d97-92e7-292e342384b9",
   "metadata": {},
   "outputs": [
    {
     "name": "stdout",
     "output_type": "stream",
     "text": [
      "C:\\Explore\\DjangoProjects\\bdm_django\\PyScriptsForSpyder\n"
     ]
    }
   ],
   "source": [
    "%cd C:\\Explore\\DjangoProjects\\bdm_django\\PyScriptsForSpyder"
   ]
  },
  {
   "cell_type": "code",
   "execution_count": 4,
   "id": "87d96536-e120-413b-a97e-2ae5f9568d1b",
   "metadata": {},
   "outputs": [
    {
     "name": "stdout",
     "output_type": "stream",
     "text": [
      "Python scripts finding YouTube Video URLs [multiple hashtags used\n",
      "in search criteria] and concanating the URLs\n",
      "-----------------------------------------------------------------\n",
      "                  File_Name                      Parent    Created\n",
      "BDM_PythonDjango_Files.html C:\\Explore\\PythonScriptsBDM 2025-06-21\n",
      "   Concatenate_csv_files.py C:\\Explore\\PythonScriptsBDM 2025-06-21\n",
      "     Find_VideoLinks_max.py C:\\Explore\\PythonScriptsBDM 2025-06-21\n",
      "           hashtags_rev.txt C:\\Explore\\PythonScriptsBDM 2025-06-21\n"
     ]
    }
   ],
   "source": [
    "import pandas as pd\n",
    "from pathlib import Path\n",
    "from datetime import datetime\n",
    "\n",
    "print(r\"Python scripts finding YouTube Video URLs [multiple hashtags used\")\n",
    "print(r\"in search criteria] and concanating the URLs\")  \n",
    "print(r\"-----------------------------------------------------------------\")\n",
    "\n",
    "p = Path(r'C:\\Explore\\PythonScriptsBDM')\n",
    "all_files = []\n",
    "\n",
    "for i in p.rglob('*.*'):\n",
    "    created_date = datetime.fromtimestamp(i.stat().st_ctime).date()\n",
    "    all_files.append((i.name, i.parent, created_date))\n",
    "\n",
    "columns = ['File_Name', 'Parent', 'Created']\n",
    "df = pd.DataFrame.from_records(all_files, columns=columns)\n",
    "df.sort_values(by='Created', ascending=False, inplace=True)\n",
    "print(df.to_string(index=False))\n"
   ]
  },
  {
   "cell_type": "code",
   "execution_count": 5,
   "id": "932e109f-9724-42b3-b0b1-db0e36696823",
   "metadata": {},
   "outputs": [
    {
     "name": "stdout",
     "output_type": "stream",
     "text": [
      "List of subdirectories under C:\\Explore\\DjangoProjects\\bdm_django\\bdm_project\n",
      "-----------------------------------------------------------------------------------\n",
      "C:\\Explore\\DjangoProjects\\bdm_django\\bdm_project\\bdm_app\n",
      "C:\\Explore\\DjangoProjects\\bdm_django\\bdm_project\\bdm_project\n",
      "C:\\Explore\\DjangoProjects\\bdm_django\\bdm_project\\bdm_app\\migrations\n",
      "C:\\Explore\\DjangoProjects\\bdm_django\\bdm_project\\bdm_app\\static\n",
      "C:\\Explore\\DjangoProjects\\bdm_django\\bdm_project\\bdm_app\\templates\n",
      "C:\\Explore\\DjangoProjects\\bdm_django\\bdm_project\\bdm_app\\__pycache__\n",
      "C:\\Explore\\DjangoProjects\\bdm_django\\bdm_project\\bdm_project\\__pycache__\n",
      "C:\\Explore\\DjangoProjects\\bdm_django\\bdm_project\\bdm_app\\migrations\\__pycache__\n",
      "C:\\Explore\\DjangoProjects\\bdm_django\\bdm_project\\bdm_app\\static\\bdm_app\n",
      "C:\\Explore\\DjangoProjects\\bdm_django\\bdm_project\\bdm_app\\templates\\bdm_app\n",
      "C:\\Explore\\DjangoProjects\\bdm_django\\bdm_project\\bdm_app\\static\\bdm_app\\dashboards\n",
      "C:\\Explore\\DjangoProjects\\bdm_django\\bdm_project\\bdm_app\\templates\\bdm_app\\dashboards\n"
     ]
    }
   ],
   "source": [
    "from pathlib import Path\n",
    "\n",
    "print(r\"List of subdirectories under C:\\Explore\\DjangoProjects\\bdm_django\\bdm_project\")  \n",
    "print(r\"-----------------------------------------------------------------------------------\")\n",
    "\n",
    "path = Path(r'C:\\Explore\\DjangoProjects\\bdm_django\\bdm_project')\n",
    "\n",
    "# Get all subdirectories recursively\n",
    "subdirectories = [p for p in path.rglob('*') if p.is_dir()]\n",
    "\n",
    "for subdir in subdirectories:\n",
    "    print(subdir)"
   ]
  },
  {
   "cell_type": "markdown",
   "id": "d8abda03-e55b-4379-a95d-df972cb574c9",
   "metadata": {},
   "source": [
    "##### The script prints each subdirectory's full path, one per line, recursively traversing  all nested folders within the specified directory.\n",
    "\n",
    "##### Key Pathlib Features Used:\n",
    "\n",
    "* Path(): Creates path objects for easier manipulation\n",
    "* rglob('*'): Recursively searches for all items matching the pattern\n",
    "* is_dir(): Checks if a path represents a directory\n",
    "* List comprehension: Pythonic way to filter and collect results"
   ]
  },
  {
   "cell_type": "code",
   "execution_count": 7,
   "id": "83bf0351-757a-48d3-bbc5-9ee4f6856ae5",
   "metadata": {},
   "outputs": [
    {
     "name": "stdout",
     "output_type": "stream",
     "text": [
      "List of subdirectories under C:\\Explore\\DjangoProjects\\bdm_django\\bdm_app\n",
      "-----------------------------------------------------------------------------------\n",
      "C:\\Explore\\DjangoProjects\\bdm_django\\bdm_app\\static\n",
      "C:\\Explore\\DjangoProjects\\bdm_django\\bdm_app\\static\\bdm_app\n",
      "C:\\Explore\\DjangoProjects\\bdm_django\\bdm_app\\static\\bdm_app\\dashboards\n"
     ]
    }
   ],
   "source": [
    "from pathlib import Path\n",
    "\n",
    "print(r\"List of subdirectories under C:\\Explore\\DjangoProjects\\bdm_django\\bdm_app\")  \n",
    "print(r\"-----------------------------------------------------------------------------------\")\n",
    "\n",
    "path = Path(r'C:\\Explore\\DjangoProjects\\bdm_django\\bdm_app')\n",
    "\n",
    "# Get all subdirectories recursively\n",
    "subdirectories = [p for p in path.rglob('*') if p.is_dir()]\n",
    "\n",
    "for subdir in subdirectories:\n",
    "    print(subdir)"
   ]
  },
  {
   "cell_type": "code",
   "execution_count": 30,
   "id": "763963b4-dda4-4a40-8460-a9df7156d784",
   "metadata": {},
   "outputs": [
    {
     "name": "stdout",
     "output_type": "stream",
     "text": [
      "Python scripts (various, Django applications), creating migrations and applying them,\n",
      "running server, etc., and building dashboard HTML using the Spyder IDE\n",
      "[Parent directory: C:\\Explore\\DjangoProjects\\bdm_django\\PyScriptsForSpyder]\n",
      "-------------------------------------------------------------------------------------\n",
      "                            File_Name\n",
      "                    check_settings.py\n",
      "                    copy_dashboard.py\n",
      "                   createsuperuser.py\n",
      "       Final_project_dir_structure.py\n",
      "     Final_run_migrations_05172025.py\n",
      "                  Final_run_server.py\n",
      "                         move_file.py\n",
      "run_venv_info_py_with_venv_minimal.py\n",
      " run_venv_info_py_with_venv_python.py\n",
      "                         venv_info.py\n",
      "                         VSC_Test1.py\n"
     ]
    }
   ],
   "source": [
    "import pandas as pd\n",
    "from pathlib import Path\n",
    "from datetime import datetime\n",
    "\n",
    "print(r\"Python scripts (various, Django applications), creating migrations and applying them,\")\n",
    "print(r\"running server, etc., and building dashboard HTML using the Spyder IDE\")  \n",
    "print(r'[Parent directory: C:\\Explore\\DjangoProjects\\bdm_django\\PyScriptsForSpyder]')\n",
    "print(r\"-------------------------------------------------------------------------------------\")\n",
    "\n",
    "p = Path(r'C:\\Explore\\DjangoProjects\\bdm_django\\PyScriptsForSpyder')\n",
    "all_files = []\n",
    "\n",
    "for i in p.rglob('*.*'):\n",
    "    all_files.append(i.name)  # Just the filename\n",
    "\n",
    "columns = ['File_Name']\n",
    "df = pd.DataFrame(all_files, columns=columns)\n",
    "print(df.to_string(index=False))\n"
   ]
  },
  {
   "cell_type": "code",
   "execution_count": 38,
   "id": "fc501649-9ed8-4e6b-b47c-fd701a6008f8",
   "metadata": {},
   "outputs": [
    {
     "name": "stdout",
     "output_type": "stream",
     "text": [
      "Folder structure of: C:\\Explore\\DjangoProjects\\bdm_django\\bdm_project\n",
      "---------------------------------------------------------------------------\n",
      "📁 bdm_app\n",
      "    📄 __init__.py\n",
      "    📁 __pycache__\n",
      "        📄 __init__.cpython-312.pyc\n",
      "        📄 __init__.cpython-313.pyc\n",
      "        📄 admin.cpython-312.pyc\n",
      "        📄 admin.cpython-313.pyc\n",
      "        📄 apps.cpython-312.pyc\n",
      "        📄 apps.cpython-313.pyc\n",
      "        📄 models.cpython-312.pyc\n",
      "        📄 models.cpython-313.pyc\n",
      "        📄 urls.cpython-312.pyc\n",
      "        📄 views.cpython-312.pyc\n",
      "    📄 admin.py\n",
      "    📄 apps.py\n",
      "    📁 migrations\n",
      "        📄 0001_initial.py\n",
      "        📄 __init__.py\n",
      "        📁 __pycache__\n",
      "            📄 0001_initial.cpython-312.pyc\n",
      "            📄 0002_category_video_delete_simplemodel.cpython-312.pyc\n",
      "            📄 0003_create_models_without_delete.cpython-312.pyc\n",
      "            📄 0004_create_models_without_delete.cpython-312.pyc\n",
      "            📄 __init__.cpython-312.pyc\n",
      "    📄 models.py\n",
      "    📁 static\n",
      "        📁 bdm_app\n",
      "            📁 dashboards\n",
      "    📁 templates\n",
      "        📁 bdm_app\n",
      "            📄 base.html\n",
      "            📄 dashboard.html\n",
      "            📁 dashboards\n",
      "                📄 server_dashboard.html\n",
      "            📄 display_table.html\n",
      "            📄 index.html\n",
      "            📄 upload.html\n",
      "            📄 upload_success.html\n",
      "    📄 tests.py\n",
      "    📄 urls.py\n",
      "    📄 views.py\n",
      "📁 bdm_project\n",
      "    📄 __init__.py\n",
      "    📁 __pycache__\n",
      "        📄 __init__.cpython-312.pyc\n",
      "        📄 __init__.cpython-313.pyc\n",
      "        📄 settings.cpython-312.pyc\n",
      "        📄 settings.cpython-313.pyc\n",
      "        📄 urls.cpython-312.pyc\n",
      "        📄 wsgi.cpython-312.pyc\n",
      "    📄 asgi.py\n",
      "    📄 settings.py\n",
      "    📄 urls.py\n",
      "    📄 wsgi.py\n",
      "📄 db.sqlite3\n",
      "📄 manage.py\n",
      "---------------------------------------------------------------------------\n"
     ]
    }
   ],
   "source": [
    "import os\n",
    "def print_folder_structure(start_path, indent=''):\n",
    "    try:\n",
    "        items = sorted(os.listdir(start_path))\n",
    "    except PermissionError:\n",
    "        print(indent + '[Permission Denied]')\n",
    "        return\n",
    "\n",
    "    for item in items:\n",
    "        item_path = os.path.join(start_path, item)\n",
    "        if os.path.isdir(item_path):\n",
    "            print(f\"{indent}📁 {item}\")\n",
    "            print_folder_structure(item_path, indent + '    ')\n",
    "        else:\n",
    "            print(f\"{indent}📄 {item}\")\n",
    "\n",
    "root_directory = r'C:\\Explore\\DjangoProjects\\bdm_django\\bdm_project'\n",
    "print(f\"Folder structure of: {root_directory}\")  \n",
    "print(r\"---------------------------------------------------------------------------\")\n",
    "print_folder_structure(root_directory)\n",
    "print(r\"---------------------------------------------------------------------------\")"
   ]
  },
  {
   "cell_type": "markdown",
   "id": "33d405e8-e1bc-4683-8e75-1081d1927192",
   "metadata": {},
   "source": [
    "#### Every time you update the YouTube video links, you must do the following: \n",
    "- Copy `server_dashboard.html` file from the `Final_Combined` folder into `C:\\Explore\\DjangoProjects\\bdm_django\\bdm_project\\bdm_app\\templates\\bdm_app\\dashboards` folder.\n",
    "- Run the following two programs:\n",
    "    -  Final_run_migrations_05172025.py\n",
    "    -  Final_run_server.py  "
   ]
  },
  {
   "cell_type": "markdown",
   "id": "4b5ed8ad-fc1a-468b-8904-5f294c422417",
   "metadata": {},
   "source": [
    "#### Minimal steps for a Django Project (Using the command-line)\n",
    "\n",
    "1.\tCreate the base directory first: \n",
    "`mkdir C:\\Explore\\DjangoProject2\\bdm_django`\n",
    "2.\tChange to that directory: \n",
    "`cd C:\\Explore\\DjangoProject2\\bdm_django`\n",
    "3.\tCreate a virtual environment:\n",
    "      `python -m venv bdm_project_venv`\n",
    "4.\tActivate the virtual environment: \n",
    "`bdm_project_venv\\Scripts\\activate`\n",
    "5.\tInstall Django: \n",
    "`pip install django`\n",
    "6.\tCreate the project: `django-admin startproject bdm_project .`\n",
    "(Note the dot at the end to create the project in the current directory)\n",
    "7.\tCreate your app with a different name: \n",
    "`python manage.py startapp bdm_core`\n"
   ]
  },
  {
   "cell_type": "markdown",
   "id": "95296b42-63fc-4811-be7e-9a48deb9dbc4",
   "metadata": {},
   "source": [
    "#### Break down what Final_run_migrations_05172025.py does:\n",
    "\n",
    "\n",
    "* Imports necessary modules (os, sys, subprocess, django)\n",
    "  \n",
    "* Sets up the Django environment by:\n",
    "\n",
    "    -- Adding your project path to the system path\n",
    "\n",
    "    -- Setting the Django settings module\n",
    "\n",
    "    -- Initializing Django with django.setup()\n",
    "\n",
    "\n",
    "* Defines paths to your virtual environment Python and manage.py\n",
    "\n",
    "* Creates a helper function called run_command that:\n",
    "\n",
    "    -- Executes a command using subprocess\n",
    "\n",
    "    -- Prints the output in real-time\n",
    "\n",
    "    -- Returns the exit code\n",
    "\n",
    "* Runs the Django migration process in two steps:\n",
    "\n",
    "* Makes migrations for the \"bdm_app\" application\n",
    "\n",
    "* Applies those migrations to update the database schema\n",
    "\n",
    "\n",
    "\n",
    "This script helps automate the Django migration workflow, making it easier to update your database schema when you make changes to your models. It's set up specifically for your project located at \n",
    "```\n",
    "C:/Users/pmuhuri/DjangoProjects/bdm_django/bdm_project\n",
    "```"
   ]
  },
  {
   "cell_type": "markdown",
   "id": "da7fe508-8d3e-4ba4-8d55-d15b82ba08ae",
   "metadata": {},
   "source": [
    "#### Path to the virtual environment's Python executable\n",
    "```\n",
    "venv_python = r\"C:\\Explore\\DjangoProjects\\bdm_django\\venv\\Scripts\\python.exe\"\n",
    "```\n",
    "\n",
    "This variable `venv_python` points to the Python executable located within your virtual environment folder. The variable is later used in the run_command function calls to ensure that Django commands run using the Python interpreter from the virtual environment rather than the system's default Python.\n",
    "\n",
    "The virtual environment itself isn't being created by this script - it's just referencing an existing virtual environment that was presumably created earlier using a tool like `virtualenv` or `venv`. Based on the path, the  virtual environment folder is located at:\n",
    "\n",
    "```\n",
    "C:\\Explore\\DjangoProjects\\bdm_django\\venv\\\n",
    "```\n",
    "\n",
    "However, based on your script, it appears you're using a standard virtual environment (created with `venv` or `virtualenv`), not a Conda environment. \n",
    "\n",
    "The `venv` folder in your project (C:\\Explore\\DjangoProjects\\bdm_django\\venv\\) is a standard Python virtual environment, not a Conda environment.\n",
    "\n",
    "If you want to use Conda with this project instead of the standard virtual environment, you would need to:\n",
    "\n",
    "* Create a Conda environment\n",
    "  \n",
    "* Install Django and other dependencies in that Conda environment\n",
    "\n",
    "* Update your script to point to the Python executable in your Conda environment instead"
   ]
  },
  {
   "cell_type": "markdown",
   "id": "1b72da07-f295-4a7b-9f63-6fb20a604c29",
   "metadata": {},
   "source": [
    "A standard Python virtual environment (like the `venv` in your project) typically contains:\n",
    "\n",
    "* Python Interpreter: A copy of or symlink to the Python executable that was used to create the environment.\n",
    "\n",
    "* Site-packages Directory: Where installed packages and their dependencies are stored, isolated from your system-wide Python installation.\n",
    "\n",
    "* Activation Scripts:\n",
    "\n",
    "    -- activate (for Windows batch: activate.bat or PowerShell: Activate.ps1)\n",
    "    -- activate (for Unix/Linux/macOS)\n",
    "\n",
    "These scripts set up the environment variables needed to use the virtual environment.\n",
    "\n",
    "* pip: A copy of pip for installing packages into this specific environment.\n",
    "Configuration Files:\n",
    "\n",
    "* pyvenv.cfg: Contains information about the virtual environment, such as the path to the base Python interpreter.\n",
    "\n",
    "\n",
    "* Binaries/Scripts Directory\n",
    "\n",
    "* Windows: A Scripts folder containing executables for installed packages\n",
    "\n",
    "* Unix/Linux/macOS: A bin folder containing executables\n",
    "\n",
    "* Library files: Various support files needed by Python and installed packages.\n",
    "\n",
    "The main purpose of a virtual environment is to provide isolation - packages installed in one virtual environment don't affect other environments or your system Python installation. This helps manage dependencies for different projects separately, avoiding version conflicts. "
   ]
  }
 ],
 "metadata": {
  "kernelspec": {
   "display_name": "Python [conda env:base] *",
   "language": "python",
   "name": "conda-base-py"
  },
  "language_info": {
   "codemirror_mode": {
    "name": "ipython",
    "version": 3
   },
   "file_extension": ".py",
   "mimetype": "text/x-python",
   "name": "python",
   "nbconvert_exporter": "python",
   "pygments_lexer": "ipython3",
   "version": "3.12.7"
  }
 },
 "nbformat": 4,
 "nbformat_minor": 5
}
