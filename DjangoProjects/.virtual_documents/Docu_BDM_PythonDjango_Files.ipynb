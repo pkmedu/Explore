





from datetime import datetime
from IPython.display import Markdown, display

current_date = datetime.now().strftime('%Y-%m-%d %H:%M:%S')
display(Markdown(f"**Document Date:** {current_date}"))


%cd C:\Explore\DjangoProjects\bdm_django\PyScriptsForSpyder


import pandas as pd
from pathlib import Path
from datetime import datetime

print(r"Python scripts finding YouTube Video URLs [multiple hashtags used")
print(r"in search criteria] and concanating the URLs")  
print(r"-----------------------------------------------------------------")

p = Path(r'C:\Explore\PythonScriptsBDM')
all_files = []

for i in p.rglob('*.*'):
    created_date = datetime.fromtimestamp(i.stat().st_ctime).date()
    all_files.append((i.name, i.parent, created_date))

columns = ['File_Name', 'Parent', 'Created']
df = pd.DataFrame.from_records(all_files, columns=columns)
df.sort_values(by='Created', ascending=False, inplace=True)
print(df.to_string(index=False))



from pathlib import Path

print(r"List of subdirectories under C:\Explore\DjangoProjects\bdm_django\bdm_project")  
print(r"-----------------------------------------------------------------------------------")

path = Path(r'C:\Explore\DjangoProjects\bdm_django\bdm_project')

# Get all subdirectories recursively
subdirectories = [p for p in path.rglob('*') if p.is_dir()]

for subdir in subdirectories:
    print(subdir)





from pathlib import Path

print(r"List of subdirectories under C:\Explore\DjangoProjects\bdm_django\bdm_app")  
print(r"-----------------------------------------------------------------------------------")

path = Path(r'C:\Explore\DjangoProjects\bdm_django\bdm_app')

# Get all subdirectories recursively
subdirectories = [p for p in path.rglob('*') if p.is_dir()]

for subdir in subdirectories:
    print(subdir)


import pandas as pd
from pathlib import Path
from datetime import datetime

print(r"Python scripts (various, Django applications), creating migrations and applying them,")
print(r"running server, etc., and building dashboard HTML using the Spyder IDE")  
print(r'[Parent directory: C:\Explore\DjangoProjects\bdm_django\PyScriptsForSpyder]')
print(r"-------------------------------------------------------------------------------------")

p = Path(r'C:\Explore\DjangoProjects\bdm_django\PyScriptsForSpyder')
all_files = []

for i in p.rglob('*.*'):
    all_files.append(i.name)  # Just the filename

columns = ['File_Name']
df = pd.DataFrame(all_files, columns=columns)
print(df.to_string(index=False))



import os
def print_folder_structure(start_path, indent=''):
    try:
        items = sorted(os.listdir(start_path))
    except PermissionError:
        print(indent + '[Permission Denied]')
        return

    for item in items:
        item_path = os.path.join(start_path, item)
        if os.path.isdir(item_path):
            print(f"{indent}📁 {item}")
            print_folder_structure(item_path, indent + '    ')
        else:
            print(f"{indent}📄 {item}")

root_directory = r'C:\Explore\DjangoProjects\bdm_django\bdm_project'
print(f"Folder structure of: {root_directory}")  
print(r"---------------------------------------------------------------------------")
print_folder_structure(root_directory)
print(r"---------------------------------------------------------------------------")















